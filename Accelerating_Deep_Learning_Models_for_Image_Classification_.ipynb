{
  "nbformat": 4,
  "nbformat_minor": 0,
  "metadata": {
    "accelerator": "GPU",
    "colab": {
      "provenance": [],
      "include_colab_link": true
    },
    "kernelspec": {
      "display_name": "Python 3",
      "language": "python",
      "name": "python3"
    },
    "language_info": {
      "codemirror_mode": {
        "name": "ipython",
        "version": 3
      },
      "file_extension": ".py",
      "mimetype": "text/x-python",
      "name": "python",
      "nbconvert_exporter": "python",
      "pygments_lexer": "ipython3",
      "version": "3.8.8"
    }
  },
  "cells": [
    {
      "cell_type": "markdown",
      "metadata": {
        "id": "view-in-github",
        "colab_type": "text"
      },
      "source": [
        "<a href=\"https://colab.research.google.com/github/Ware-Hard-or-Soft/ML-DL-projects/blob/main/Accelerating_Deep_Learning_Models_for_Image_Classification_.ipynb\" target=\"_parent\"><img src=\"https://colab.research.google.com/assets/colab-badge.svg\" alt=\"Open In Colab\"/></a>"
      ]
    },
    {
      "cell_type": "markdown",
      "metadata": {
        "id": "zmwWs4S9cRIn"
      },
      "source": [
        "#  Leveraging the computational power of GPUs to accelerate the training of neural networks in PyTorch. The code involves:\n",
        "\n",
        "1. Setting up GPU for PyTorch: The code starts by verifying if a GPU is available and initializing it. The model and data are moved from the CPU to the GPU to take advantage of faster computations.\n",
        "2. Build CNN from scratch or Using Pre-trained ResNet-18 Model: A ResNet-18 pre-trained model is used, which has been fine-tuned with the CIFAR-10 dataset, a standard dataset used for image classification tasks.\n",
        "3. Transfer Learning: The code provides options for transfer learning:\n",
        "Freezing some of the pre-trained layers to speed up training while keeping the rest of the layers trainable.\n",
        "4. Loading and fine-tuning the model on the CIFAR-10 dataset to improve the classification accuracy.\n",
        "5. Training Loop: The model is trained using Stochastic Gradient Descent (SGD) with a cross-entropy loss function. The training process is performed over multiple epochs, and the loss is reported at regular intervals.\n",
        "6. Evaluation of Model: After training, the model's performance is evaluated on a test set, and the accuracy on the CIFAR-10 dataset is printed.\n",
        "\n",
        "Author :Dongqi Zheng"
      ]
    },
    {
      "cell_type": "code",
      "metadata": {
        "colab": {
          "base_uri": "https://localhost:8080/"
        },
        "id": "TT7wKvilvBvX",
        "outputId": "a7612b36-3fab-466a-a728-3ca00bd9789f"
      },
      "source": [
        "import torch\n",
        "print(f'Can I can use GPU now? -- {torch.cuda.is_available()}')"
      ],
      "execution_count": 1,
      "outputs": [
        {
          "output_type": "stream",
          "name": "stdout",
          "text": [
            "Can I can use GPU now? -- True\n"
          ]
        }
      ]
    },
    {
      "cell_type": "code",
      "metadata": {
        "colab": {
          "base_uri": "https://localhost:8080/"
        },
        "id": "lUdR8v7Kt-6S",
        "outputId": "fdc89d2f-4f60-4b48-d6e7-8b0baae697b9"
      },
      "source": [
        "import torch.nn as nn\n",
        "rand_tensor = torch.rand(5,2)\n",
        "simple_model = nn.Sequential(nn.Linear(2,10), nn.ReLU(), nn.Linear(10,1))\n",
        "print(f'input is on {rand_tensor.device}')\n",
        "print(f'model parameters are on {[param.device for param in simple_model.parameters()]}')\n",
        "print(f'output is on {simple_model(rand_tensor).device}')\n",
        "\n",
        "device = torch.device('cuda')\n",
        "# ----------- <Your code> ---------------\n",
        "# Move rand_tensor and model onto the GPU device\n",
        "\n",
        "simple_model=simple_model.to(device)\n",
        "rand_tensor=rand_tensor.to(device)\n",
        "\n",
        "# --------- <End your code> -------------\n",
        "print(f'input is on {rand_tensor.device}')\n",
        "print(f'model parameters are on {[param.device for param in simple_model.parameters()]}')\n",
        "print(f'output is on {simple_model(rand_tensor).device}')"
      ],
      "execution_count": 2,
      "outputs": [
        {
          "output_type": "stream",
          "name": "stdout",
          "text": [
            "input is on cpu\n",
            "model parameters are on [device(type='cpu'), device(type='cpu'), device(type='cpu'), device(type='cpu')]\n",
            "output is on cpu\n",
            "input is on cuda:0\n",
            "model parameters are on [device(type='cuda', index=0), device(type='cuda', index=0), device(type='cuda', index=0), device(type='cuda', index=0)]\n",
            "output is on cuda:0\n"
          ]
        }
      ]
    },
    {
      "cell_type": "code",
      "metadata": {
        "id": "FIVO5T4JgA_N",
        "colab": {
          "base_uri": "https://localhost:8080/"
        },
        "outputId": "6a5788da-d446-4d64-fa52-580ad6fd7940"
      },
      "source": [
        "\n",
        "import torch.nn as nn\n",
        "import torch.nn.functional as F\n",
        "import torchvision\n",
        "import torch.optim as optim\n",
        "#--MINST load\n",
        "transform = torchvision.transforms.Compose([torchvision.transforms.ToTensor(),\n",
        "                      torchvision.transforms.Normalize((0.1307,),(0.3081,))])\n",
        "\n",
        "train_dataset = torchvision.datasets.MNIST('/data', train=True, download=True, transform=transform)\n",
        "test_dataset = torchvision.datasets.MNIST('/data', train=False, download=True, transform=transform)\n",
        "\n",
        "batch_size_train, batch_size_test = 64, 1000\n",
        "\n",
        "train_loader = torch.utils.data.DataLoader(train_dataset, batch_size=batch_size_train, shuffle=True)\n",
        "test_loader = torch.utils.data.DataLoader(test_dataset, batch_size=batch_size_test, shuffle=False)\n",
        "\n",
        "batch_idx, (images, targets) = next(enumerate(train_loader))\n",
        "#---OurFC\n",
        "\n",
        "\n",
        "class OurCNN(nn.Module):\n",
        "\n",
        "  def __init__(self):\n",
        "    super(OurCNN, self).__init__()\n",
        "\n",
        "    self.conv = nn.Conv2d(1, 3, kernel_size=5)\n",
        "    self.fc = nn.Linear(432, 10)\n",
        "\n",
        "  def forward(self, x):\n",
        "    x = self.conv(x)\n",
        "    x = F.relu(F.max_pool2d(x,2))\n",
        "    x = x.view(-1, 432)\n",
        "    x = F.relu(self.fc(x))\n",
        "    return F.log_softmax(x,-1)\n",
        "\n",
        "\n",
        "\n",
        "def train(classifier, epoch):\n",
        "\n",
        "  classifier.train()\n",
        "\n",
        "  for batch_idx, (images, targets) in enumerate(train_loader):\n",
        "\n",
        "    optimizer.zero_grad()\n",
        "    output = classifier(images)\n",
        "    loss = F.cross_entropy(output, targets)\n",
        "    loss.backward()\n",
        "    optimizer.step()\n",
        "\n",
        "    if batch_idx % 10 == 0:\n",
        "      train_losses.append(loss.item())\n",
        "      train_counter.append(\n",
        "        (batch_idx*64) + ((epoch-1)*len(train_loader.dataset)))\n",
        "    if batch_idx % 100 == 0:\n",
        "      print(f'Epoch {epoch}: [{batch_idx*len(images)}/{len(train_loader.dataset)}] Loss: {loss.item()}')\n",
        "\n",
        "def test(classifier, epoch):\n",
        "\n",
        "  classifier.eval()\n",
        "\n",
        "  test_loss = 0\n",
        "  correct = 0\n",
        "\n",
        "  with torch.no_grad():\n",
        "    for images, targets in test_loader:\n",
        "      output = classifier(images)\n",
        "      test_loss += F.cross_entropy(output, targets, reduction='sum').item()\n",
        "      pred = output.data.max(1, keepdim=True)[1]\n",
        "      correct += pred.eq(targets.data.view_as(pred)).sum()\n",
        "\n",
        "  test_loss /= len(test_loader.dataset)\n",
        "  test_losses.append(test_loss)\n",
        "  test_counter.append(len(train_loader.dataset)*epoch)\n",
        "\n",
        "  print(f'Test result on epoch {epoch}: Avg loss is {test_loss}, Accuracy: {100.*correct/len(test_loader.dataset)}%')\n",
        "#--Implementation\n",
        "train_losses = []\n",
        "train_counter = []\n",
        "test_losses = []\n",
        "test_counter = []\n",
        "max_epoch = 3\n",
        "\n",
        "classifier = OurCNN()\n",
        "optimizer = optim.SGD(classifier.parameters(), lr=0.05, momentum=0.8)\n",
        "for epoch in range(1, max_epoch+1):\n",
        "  train(classifier, epoch)\n",
        "  test(classifier, epoch)\n"
      ],
      "execution_count": 3,
      "outputs": [
        {
          "output_type": "stream",
          "name": "stdout",
          "text": [
            "Downloading http://yann.lecun.com/exdb/mnist/train-images-idx3-ubyte.gz\n",
            "Failed to download (trying next):\n",
            "<urlopen error [SSL: CERTIFICATE_VERIFY_FAILED] certificate verify failed: certificate has expired (_ssl.c:1007)>\n",
            "\n",
            "Downloading https://ossci-datasets.s3.amazonaws.com/mnist/train-images-idx3-ubyte.gz\n",
            "Downloading https://ossci-datasets.s3.amazonaws.com/mnist/train-images-idx3-ubyte.gz to /data/MNIST/raw/train-images-idx3-ubyte.gz\n"
          ]
        },
        {
          "output_type": "stream",
          "name": "stderr",
          "text": [
            "100%|██████████| 9912422/9912422 [00:00<00:00, 15915676.97it/s]\n"
          ]
        },
        {
          "output_type": "stream",
          "name": "stdout",
          "text": [
            "Extracting /data/MNIST/raw/train-images-idx3-ubyte.gz to /data/MNIST/raw\n",
            "\n",
            "Downloading http://yann.lecun.com/exdb/mnist/train-labels-idx1-ubyte.gz\n",
            "Failed to download (trying next):\n",
            "<urlopen error [SSL: CERTIFICATE_VERIFY_FAILED] certificate verify failed: certificate has expired (_ssl.c:1007)>\n",
            "\n",
            "Downloading https://ossci-datasets.s3.amazonaws.com/mnist/train-labels-idx1-ubyte.gz\n",
            "Downloading https://ossci-datasets.s3.amazonaws.com/mnist/train-labels-idx1-ubyte.gz to /data/MNIST/raw/train-labels-idx1-ubyte.gz\n"
          ]
        },
        {
          "output_type": "stream",
          "name": "stderr",
          "text": [
            "100%|██████████| 28881/28881 [00:00<00:00, 483153.23it/s]\n"
          ]
        },
        {
          "output_type": "stream",
          "name": "stdout",
          "text": [
            "Extracting /data/MNIST/raw/train-labels-idx1-ubyte.gz to /data/MNIST/raw\n",
            "\n",
            "Downloading http://yann.lecun.com/exdb/mnist/t10k-images-idx3-ubyte.gz\n",
            "Failed to download (trying next):\n",
            "<urlopen error [SSL: CERTIFICATE_VERIFY_FAILED] certificate verify failed: certificate has expired (_ssl.c:1007)>\n",
            "\n",
            "Downloading https://ossci-datasets.s3.amazonaws.com/mnist/t10k-images-idx3-ubyte.gz\n",
            "Downloading https://ossci-datasets.s3.amazonaws.com/mnist/t10k-images-idx3-ubyte.gz to /data/MNIST/raw/t10k-images-idx3-ubyte.gz\n"
          ]
        },
        {
          "output_type": "stream",
          "name": "stderr",
          "text": [
            "100%|██████████| 1648877/1648877 [00:00<00:00, 4393946.35it/s]\n"
          ]
        },
        {
          "output_type": "stream",
          "name": "stdout",
          "text": [
            "Extracting /data/MNIST/raw/t10k-images-idx3-ubyte.gz to /data/MNIST/raw\n",
            "\n",
            "Downloading http://yann.lecun.com/exdb/mnist/t10k-labels-idx1-ubyte.gz\n",
            "Failed to download (trying next):\n",
            "<urlopen error [SSL: CERTIFICATE_VERIFY_FAILED] certificate verify failed: certificate has expired (_ssl.c:1007)>\n",
            "\n",
            "Downloading https://ossci-datasets.s3.amazonaws.com/mnist/t10k-labels-idx1-ubyte.gz\n",
            "Downloading https://ossci-datasets.s3.amazonaws.com/mnist/t10k-labels-idx1-ubyte.gz to /data/MNIST/raw/t10k-labels-idx1-ubyte.gz\n"
          ]
        },
        {
          "output_type": "stream",
          "name": "stderr",
          "text": [
            "100%|██████████| 4542/4542 [00:00<00:00, 4315933.11it/s]\n"
          ]
        },
        {
          "output_type": "stream",
          "name": "stdout",
          "text": [
            "Extracting /data/MNIST/raw/t10k-labels-idx1-ubyte.gz to /data/MNIST/raw\n",
            "\n",
            "Epoch 1: [0/60000] Loss: 2.2840781211853027\n",
            "Epoch 1: [6400/60000] Loss: 0.8914243578910828\n",
            "Epoch 1: [12800/60000] Loss: 0.5941224694252014\n",
            "Epoch 1: [19200/60000] Loss: 0.4540316164493561\n",
            "Epoch 1: [25600/60000] Loss: 0.2585507929325104\n",
            "Epoch 1: [32000/60000] Loss: 0.3928629755973816\n",
            "Epoch 1: [38400/60000] Loss: 0.36925435066223145\n",
            "Epoch 1: [44800/60000] Loss: 0.4000798761844635\n",
            "Epoch 1: [51200/60000] Loss: 0.4184618890285492\n",
            "Epoch 1: [57600/60000] Loss: 0.32626786828041077\n",
            "Test result on epoch 1: Avg loss is 0.3382936828613281, Accuracy: 87.33999633789062%\n",
            "Epoch 2: [0/60000] Loss: 0.3188709318637848\n",
            "Epoch 2: [6400/60000] Loss: 0.5033968091011047\n",
            "Epoch 2: [12800/60000] Loss: 0.5068771839141846\n",
            "Epoch 2: [19200/60000] Loss: 0.23884353041648865\n",
            "Epoch 2: [25600/60000] Loss: 0.2021181881427765\n",
            "Epoch 2: [32000/60000] Loss: 0.36667028069496155\n",
            "Epoch 2: [38400/60000] Loss: 0.34921500086784363\n",
            "Epoch 2: [44800/60000] Loss: 0.4661664664745331\n",
            "Epoch 2: [51200/60000] Loss: 0.3870888948440552\n",
            "Epoch 2: [57600/60000] Loss: 0.3510188162326813\n",
            "Test result on epoch 2: Avg loss is 0.3226732025146484, Accuracy: 87.70999908447266%\n",
            "Epoch 3: [0/60000] Loss: 0.2841325104236603\n",
            "Epoch 3: [6400/60000] Loss: 0.24806681275367737\n",
            "Epoch 3: [12800/60000] Loss: 0.36155396699905396\n",
            "Epoch 3: [19200/60000] Loss: 0.6902108788490295\n",
            "Epoch 3: [25600/60000] Loss: 0.43713706731796265\n",
            "Epoch 3: [32000/60000] Loss: 0.29524484276771545\n",
            "Epoch 3: [38400/60000] Loss: 0.43035125732421875\n",
            "Epoch 3: [44800/60000] Loss: 0.40296512842178345\n",
            "Epoch 3: [51200/60000] Loss: 0.4003886580467224\n",
            "Epoch 3: [57600/60000] Loss: 0.2716565430164337\n",
            "Test result on epoch 3: Avg loss is 0.32762546997070313, Accuracy: 87.7300033569336%\n"
          ]
        }
      ]
    },
    {
      "cell_type": "code",
      "metadata": {
        "colab": {
          "base_uri": "https://localhost:8080/"
        },
        "id": "Y1JtS32s9ROJ",
        "outputId": "b0eaecb9-b7c1-4caa-e140-73238ac62801"
      },
      "source": [
        "\n",
        "inputSize=784\n",
        "hiddenSize=100\n",
        "outputSize=10\n",
        "\n",
        "class OurFC(nn.Module):\n",
        "    def __init__(self):\n",
        "        super(OurFC, self).__init__()\n",
        "        self.inputSize=inputSize\n",
        "        self.l1 = nn.Linear(inputSize, hiddenSize)\n",
        "        self.l3 = nn.Linear(hiddenSize, outputSize)\n",
        "\n",
        "    def forward(self, x):\n",
        "        x = x.view(-1, self.inputSize)\n",
        "        x = self.l1(x)\n",
        "        x = self.l3(x)\n",
        "        return F.log_softmax(x)\n",
        "\n",
        "train_losses = []\n",
        "train_counter = []\n",
        "test_losses = []\n",
        "test_counter = []\n",
        "max_epoch = 3\n",
        "\n",
        "classifier = OurFC()\n",
        "optimizer = optim.SGD(classifier.parameters(), lr=0.01, momentum=0.8)\n",
        "for epoch in range(1, max_epoch+1):\n",
        "  train(classifier, epoch)\n",
        "  test(classifier, epoch)\n"
      ],
      "execution_count": 4,
      "outputs": [
        {
          "output_type": "stream",
          "name": "stdout",
          "text": [
            "Epoch 1: [0/60000] Loss: 2.4171440601348877\n"
          ]
        },
        {
          "output_type": "stream",
          "name": "stderr",
          "text": [
            "<ipython-input-4-82a5f1850287>:16: UserWarning: Implicit dimension choice for log_softmax has been deprecated. Change the call to include dim=X as an argument.\n",
            "  return F.log_softmax(x)\n"
          ]
        },
        {
          "output_type": "stream",
          "name": "stdout",
          "text": [
            "Epoch 1: [6400/60000] Loss: 0.47505098581314087\n",
            "Epoch 1: [12800/60000] Loss: 0.6048062443733215\n",
            "Epoch 1: [19200/60000] Loss: 0.2440565824508667\n",
            "Epoch 1: [25600/60000] Loss: 0.32572272419929504\n",
            "Epoch 1: [32000/60000] Loss: 0.42253249883651733\n",
            "Epoch 1: [38400/60000] Loss: 0.35555320978164673\n",
            "Epoch 1: [44800/60000] Loss: 0.21290792524814606\n",
            "Epoch 1: [51200/60000] Loss: 0.18792670965194702\n",
            "Epoch 1: [57600/60000] Loss: 0.6089798212051392\n",
            "Test result on epoch 1: Avg loss is 0.2949097984313965, Accuracy: 91.62000274658203%\n",
            "Epoch 2: [0/60000] Loss: 0.2084326595067978\n",
            "Epoch 2: [6400/60000] Loss: 0.5127294659614563\n",
            "Epoch 2: [12800/60000] Loss: 0.22638379037380219\n",
            "Epoch 2: [19200/60000] Loss: 0.6166138648986816\n",
            "Epoch 2: [25600/60000] Loss: 0.18957380950450897\n",
            "Epoch 2: [32000/60000] Loss: 0.35854873061180115\n",
            "Epoch 2: [38400/60000] Loss: 0.46629005670547485\n",
            "Epoch 2: [44800/60000] Loss: 0.42843499779701233\n",
            "Epoch 2: [51200/60000] Loss: 0.49654456973075867\n",
            "Epoch 2: [57600/60000] Loss: 0.24347755312919617\n",
            "Test result on epoch 2: Avg loss is 0.28435332641601563, Accuracy: 91.70999908447266%\n",
            "Epoch 3: [0/60000] Loss: 0.3607451319694519\n",
            "Epoch 3: [6400/60000] Loss: 0.1665205955505371\n",
            "Epoch 3: [12800/60000] Loss: 0.2710212767124176\n",
            "Epoch 3: [19200/60000] Loss: 0.3132193088531494\n",
            "Epoch 3: [25600/60000] Loss: 0.3224605321884155\n",
            "Epoch 3: [32000/60000] Loss: 0.1927402913570404\n",
            "Epoch 3: [38400/60000] Loss: 0.29968440532684326\n",
            "Epoch 3: [44800/60000] Loss: 0.5119276642799377\n",
            "Epoch 3: [51200/60000] Loss: 0.2826140522956848\n",
            "Epoch 3: [57600/60000] Loss: 0.34867173433303833\n",
            "Test result on epoch 3: Avg loss is 0.2885199981689453, Accuracy: 91.63999938964844%\n"
          ]
        }
      ]
    },
    {
      "cell_type": "code",
      "metadata": {
        "id": "JrjN1dr_f-lc",
        "colab": {
          "base_uri": "https://localhost:8080/"
        },
        "outputId": "e3ad2c63-6cc7-45c8-9c59-997d6378f1c0"
      },
      "source": [
        "# Compare the paramters\n",
        "OurFC_total_params = sum(p.numel() for p in OurFC().parameters())\n",
        "print(f'Number of Params in OurFC is {OurFC_total_params}')\n",
        "OurCNN_total_params = sum(p.numel() for p in OurCNN().parameters())\n",
        "print(f'Number of Params in OurCNN is {OurCNN_total_params}')"
      ],
      "execution_count": 5,
      "outputs": [
        {
          "output_type": "stream",
          "name": "stdout",
          "text": [
            "Number of Params in OurFC is 79510\n",
            "Number of Params in OurCNN is 4408\n"
          ]
        }
      ]
    },
    {
      "cell_type": "markdown",
      "metadata": {
        "id": "v5oMKOrhmfpM"
      },
      "source": [
        "CNNs take advantage of the spatial structure of images, use fewer parameters, offer better translation invariance, and excel at learning hierarchical features.\n",
        "Fully connected layers, on the other hand, do not capture spatial information and are computationally less efficient for large images, leading to overfitting and poor generalization."
      ]
    },
    {
      "cell_type": "markdown",
      "metadata": {
        "id": "290mOBEHgEXr"
      },
      "source": [
        "##Train classifier on CIFAR-10 data."
      ]
    },
    {
      "cell_type": "code",
      "metadata": {
        "id": "oobbO_pGhYbs",
        "colab": {
          "base_uri": "https://localhost:8080/"
        },
        "outputId": "54c7abfe-1e3e-47e8-844a-4a0668946d1a"
      },
      "source": [
        "# ----------- <Your code> ---------------\n",
        "!pip install torchvision\n",
        "import torchvision\n",
        "import torchvision.transforms as transforms # This line imports the necessary transforms module\n",
        "\n",
        "transform = transforms.Compose(\n",
        "    [transforms.ToTensor(),\n",
        "     transforms.Normalize((0.5, 0.5, 0.5), (0.5, 0.5, 0.5))])\n",
        "\n",
        "batch_size = 9\n",
        "\n",
        "trainset = torchvision.datasets.CIFAR10(root='./data', train=True,\n",
        "                                        download=True, transform=transform)\n",
        "trainloader = torch.utils.data.DataLoader(trainset, batch_size=batch_size,\n",
        "                                          shuffle=True, num_workers=2)\n",
        "\n",
        "testset = torchvision.datasets.CIFAR10(root='./data', train=False,\n",
        "                                       download=True, transform=transform)\n",
        "testloader = torch.utils.data.DataLoader(testset, batch_size=batch_size,\n",
        "                                         shuffle=False, num_workers=2)\n",
        "\n",
        "classes = ('plane', 'car', 'bird', 'cat',\n",
        "           'deer', 'dog', 'frog', 'horse', 'ship', 'truck')"
      ],
      "execution_count": 8,
      "outputs": [
        {
          "output_type": "stream",
          "name": "stdout",
          "text": [
            "Requirement already satisfied: torchvision in /usr/local/lib/python3.10/dist-packages (0.19.1+cu121)\n",
            "Requirement already satisfied: numpy in /usr/local/lib/python3.10/dist-packages (from torchvision) (1.26.4)\n",
            "Requirement already satisfied: torch==2.4.1 in /usr/local/lib/python3.10/dist-packages (from torchvision) (2.4.1+cu121)\n",
            "Requirement already satisfied: pillow!=8.3.*,>=5.3.0 in /usr/local/lib/python3.10/dist-packages (from torchvision) (10.4.0)\n",
            "Requirement already satisfied: filelock in /usr/local/lib/python3.10/dist-packages (from torch==2.4.1->torchvision) (3.16.1)\n",
            "Requirement already satisfied: typing-extensions>=4.8.0 in /usr/local/lib/python3.10/dist-packages (from torch==2.4.1->torchvision) (4.12.2)\n",
            "Requirement already satisfied: sympy in /usr/local/lib/python3.10/dist-packages (from torch==2.4.1->torchvision) (1.13.3)\n",
            "Requirement already satisfied: networkx in /usr/local/lib/python3.10/dist-packages (from torch==2.4.1->torchvision) (3.4.1)\n",
            "Requirement already satisfied: jinja2 in /usr/local/lib/python3.10/dist-packages (from torch==2.4.1->torchvision) (3.1.4)\n",
            "Requirement already satisfied: fsspec in /usr/local/lib/python3.10/dist-packages (from torch==2.4.1->torchvision) (2024.6.1)\n",
            "Requirement already satisfied: MarkupSafe>=2.0 in /usr/local/lib/python3.10/dist-packages (from jinja2->torch==2.4.1->torchvision) (3.0.1)\n",
            "Requirement already satisfied: mpmath<1.4,>=1.1.0 in /usr/local/lib/python3.10/dist-packages (from sympy->torch==2.4.1->torchvision) (1.3.0)\n",
            "Downloading https://www.cs.toronto.edu/~kriz/cifar-10-python.tar.gz to ./data/cifar-10-python.tar.gz\n"
          ]
        },
        {
          "output_type": "stream",
          "name": "stderr",
          "text": [
            "100%|██████████| 170498071/170498071 [00:03<00:00, 49692068.29it/s]\n"
          ]
        },
        {
          "output_type": "stream",
          "name": "stdout",
          "text": [
            "Extracting ./data/cifar-10-python.tar.gz to ./data\n",
            "Files already downloaded and verified\n"
          ]
        }
      ]
    },
    {
      "cell_type": "code",
      "metadata": {
        "colab": {
          "base_uri": "https://localhost:8080/",
          "height": 545
        },
        "id": "LKn5exDLFwB7",
        "outputId": "33686e10-eaf3-455d-a7b3-4b48ad7b15d5"
      },
      "source": [
        "batch_idx, (images2, targets) = next(enumerate(trainloader))\n",
        "import matplotlib.pyplot as plt\n",
        "\n",
        "fig, ax = plt.subplots(3,3)\n",
        "fig.set_size_inches(6,6)\n",
        "for i in range(3):\n",
        "  for j in range(3):\n",
        "    ax[i,j].imshow(images2[i*3+j][0])\n",
        "    ax[i,j].set_title(f'{classes[targets[i*3+j]]}')\n",
        "fig.show()"
      ],
      "execution_count": 9,
      "outputs": [
        {
          "output_type": "display_data",
          "data": {
            "text/plain": [
              "<Figure size 600x600 with 9 Axes>"
            ],
            "image/png": "[encoded data removed]"
          },
          "metadata": {}
        }
      ]
    },
    {
      "cell_type": "markdown",
      "metadata": {
        "id": "f0FMDyDzijEG"
      },
      "source": [
        "### Create CNN and train it\n",
        "\n",
        "\n"
      ]
    },
    {
      "cell_type": "code",
      "metadata": {
        "id": "cRuEf8tAlnsP"
      },
      "source": [
        "# ----------- <Your code> ---------------\n",
        "\n",
        "import torch.nn as nn\n",
        "import torch.nn.functional as F\n",
        "import torch.optim as optim\n",
        "class Task2CNN(nn.Module):\n",
        "    def __init__(self):\n",
        "        super().__init__()\n",
        "        self.conv1 = nn.Conv2d(3, 6, 5)\n",
        "        self.pool = nn.MaxPool2d(2, 2)\n",
        "        self.conv2 = nn.Conv2d(6, 16, 5)\n",
        "        self.fc1 = nn.Linear(16 * 5 * 5, 120)\n",
        "        self.fc2 = nn.Linear(120, 10)\n",
        "\n",
        "    def forward(self, x):\n",
        "        x = self.pool(F.relu(self.conv1(x)))\n",
        "        x = self.pool(F.relu(self.conv2(x)))\n",
        "        x = torch.flatten(x, 1)\n",
        "        x = F.relu(self.fc1(x))\n",
        "        x = self.fc2(x)\n",
        "        return x\n",
        "\n",
        "net = Task2CNN()\n",
        "criterion = nn.CrossEntropyLoss()\n",
        "optimizer = optim.SGD(net.parameters(), lr=0.001, momentum=0.9)\n",
        "\n"
      ],
      "execution_count": 12,
      "outputs": []
    },
    {
      "cell_type": "code",
      "metadata": {
        "colab": {
          "base_uri": "https://localhost:8080/"
        },
        "id": "9xTBYepUg1uC",
        "outputId": "fb0c48f3-836b-4b73-c5aa-0bd9d7ae27b0"
      },
      "source": [
        "for epoch in range(2):\n",
        "\n",
        "    running_loss = 0.0\n",
        "    for i, data in enumerate(trainloader, 0):\n",
        "\n",
        "        inputs, labels = data\n",
        "        optimizer.zero_grad()\n",
        "        outputs = net(inputs)\n",
        "        loss = criterion(outputs, labels)\n",
        "        loss.backward()\n",
        "        optimizer.step()\n",
        "\n",
        "        # print statistics\n",
        "        running_loss += loss.item()\n",
        "        if i % 2000 == 1999:\n",
        "            print('[%d, %5d] loss: %.3f' %\n",
        "                  (epoch + 1, i + 1, running_loss / 2000))\n",
        "            running_loss = 0.0\n",
        "\n",
        "print('Training is done')"
      ],
      "execution_count": 13,
      "outputs": [
        {
          "output_type": "stream",
          "name": "stdout",
          "text": [
            "[1,  2000] loss: 1.997\n",
            "[1,  4000] loss: 1.612\n",
            "[2,  2000] loss: 1.411\n",
            "[2,  4000] loss: 1.343\n",
            "Training is done\n"
          ]
        }
      ]
    },
    {
      "cell_type": "code",
      "metadata": {
        "colab": {
          "base_uri": "https://localhost:8080/"
        },
        "id": "658T3krfKdgE",
        "outputId": "3494dbc8-c02b-45aa-8d96-99bbb7c1a8cf"
      },
      "source": [
        "correct = 0\n",
        "total = 0\n",
        "predictedList=[]\n",
        "originalList=[]\n",
        "missImageList=[]\n",
        "\n",
        "# since we're not training, we don't need to calculate the gradients for our outputs\n",
        "with torch.no_grad():\n",
        "    for data in testloader:\n",
        "        images, labels = data\n",
        "        #print(labels)\n",
        "        # calculate outputs by running images through the network\n",
        "        outputs = net(images)\n",
        "        # the class with the highest energy is what we choose as prediction\n",
        "        _, predicted = torch.max(outputs.data, 1)\n",
        "\n",
        "        total += labels.size(0)\n",
        "        m=(predicted == labels).sum().item()\n",
        "        #print(m)\n",
        "        if (m==0):\n",
        "           #print(\"bad\")\n",
        "           predictedList.append(predicted)\n",
        "\n",
        "           originalList.append(labels)\n",
        "           missImageList.append(images)\n",
        "           #print(missImageList)\n",
        "        correct += (predicted == labels).sum().item()\n",
        "\n",
        "\n",
        "print('Accuracy of the network on the 10000 test images: %d %%' % (\n",
        "    100 * correct / total))"
      ],
      "execution_count": 14,
      "outputs": [
        {
          "output_type": "stream",
          "name": "stdout",
          "text": [
            "Accuracy of the network on the 10000 test images: 54 %\n"
          ]
        }
      ]
    },
    {
      "cell_type": "markdown",
      "metadata": {
        "id": "hS1mXr9Cl6pM"
      },
      "source": [
        "### Plot misclassified test images\n"
      ]
    },
    {
      "cell_type": "code",
      "metadata": {
        "id": "xd8vWof8nIHw",
        "colab": {
          "base_uri": "https://localhost:8080/",
          "height": 436
        },
        "outputId": "5fd19102-3361-40e0-93ae-6c2507220061"
      },
      "source": [
        "# ----------- <Your code> ---------------\n",
        "import matplotlib.pyplot as plt\n",
        "\n",
        "fig, ax = plt.subplots(1,3)\n",
        "fig.set_size_inches(10,3)\n",
        "for i in range(3):\n",
        "    ax[i].imshow(missImageList[0][i].T)\n",
        "    ax[i].set_title(f'True label : {classes[originalList[0][i]]}\\n Predicted label: {classes[predictedList[0][i]]}')\n",
        "\n",
        "fig.show()"
      ],
      "execution_count": 15,
      "outputs": [
        {
          "output_type": "stream",
          "name": "stderr",
          "text": [
            "<ipython-input-15-4e00aea4fc5b>:7: UserWarning: The use of `x.T` on tensors of dimension other than 2 to reverse their shape is deprecated and it will throw an error in a future release. Consider `x.mT` to transpose batches of matrices or `x.permute(*torch.arange(x.ndim - 1, -1, -1))` to reverse the dimensions of a tensor. (Triggered internally at ../aten/src/ATen/native/TensorShape.cpp:3697.)\n",
            "  ax[i].imshow(missImageList[0][i].T)\n",
            "WARNING:matplotlib.image:Clipping input data to the valid range for imshow with RGB data ([0..1] for floats or [0..255] for integers).\n",
            "WARNING:matplotlib.image:Clipping input data to the valid range for imshow with RGB data ([0..1] for floats or [0..255] for integers).\n",
            "WARNING:matplotlib.image:Clipping input data to the valid range for imshow with RGB data ([0..1] for floats or [0..255] for integers).\n"
          ]
        },
        {
          "output_type": "display_data",
          "data": {
            "text/plain": [
              "<Figure size 1000x300 with 3 Axes>"
            ],
            "image/png": "[encoded data removed]"
          },
          "metadata": {}
        }
      ]
    },
    {
      "cell_type": "markdown",
      "metadata": {
        "id": "INN54zXpTcZw"
      },
      "source": [
        "## Transfer Learning"
      ]
    },
    {
      "cell_type": "markdown",
      "metadata": {
        "id": "IgDHswfp0k7m"
      },
      "source": [
        "use a pretrained CNN for CIFAR-10 classification."
      ]
    },
    {
      "cell_type": "markdown",
      "metadata": {
        "id": "VZ-21Pv183TX"
      },
      "source": [
        "`torchvision.models` (https://pytorch.org/vision/stable/models.html) contains definitions of models for addressing different tasks, including: image classification, pixelwise semantic segmentation, object detection, instance segmentation, person keypoint detection and video classification.\n",
        " Resnet-18, read this paper https://arxiv.org/pdf/1512.03385.pdf."
      ]
    },
    {
      "cell_type": "code",
      "metadata": {
        "id": "KaHP0VfAVuDY",
        "colab": {
          "base_uri": "https://localhost:8080/"
        },
        "outputId": "82091fad-6f0b-4766-8eac-a198d0123d04"
      },
      "source": [
        "# ----------- <Your code> ---------------\n",
        "import torchvision.models as models\n",
        "resnet18 = models.resnet18(pretrained=True)\n",
        "#resnet_total_params = sum(p.numel() for p in resnet18.parameters())\n",
        "#print(resnet_total_params)\n",
        "resnet18=resnet18.to(device)\n"
      ],
      "execution_count": 16,
      "outputs": [
        {
          "output_type": "stream",
          "name": "stderr",
          "text": [
            "/usr/local/lib/python3.10/dist-packages/torchvision/models/_utils.py:208: UserWarning: The parameter 'pretrained' is deprecated since 0.13 and may be removed in the future, please use 'weights' instead.\n",
            "  warnings.warn(\n",
            "/usr/local/lib/python3.10/dist-packages/torchvision/models/_utils.py:223: UserWarning: Arguments other than a weight enum or `None` for 'weights' are deprecated since 0.13 and may be removed in the future. The current behavior is equivalent to passing `weights=ResNet18_Weights.IMAGENET1K_V1`. You can also use `weights=ResNet18_Weights.DEFAULT` to get the most up-to-date weights.\n",
            "  warnings.warn(msg)\n",
            "Downloading: \"https://download.pytorch.org/models/resnet18-f37072fd.pth\" to /root/.cache/torch/hub/checkpoints/resnet18-f37072fd.pth\n",
            "100%|██████████| 44.7M/44.7M [00:00<00:00, 150MB/s]\n"
          ]
        }
      ]
    },
    {
      "cell_type": "markdown",
      "metadata": {
        "id": "MtQkZUZH84q8"
      },
      "source": [
        "### Create data loaders for CIFAR-10"
      ]
    },
    {
      "cell_type": "markdown",
      "metadata": {
        "id": "GTlRo-CJ4GQD"
      },
      "source": [
        "preprocess the CIFAR-10 data to make sure it has a height and width. See [`torchvision.transforms.Resize`](https://pytorch.org/vision/stable/transforms.html#torchvision.transforms.Resize).\n"
      ]
    },
    {
      "cell_type": "code",
      "metadata": {
        "id": "lhFys7OQV1Wj",
        "colab": {
          "base_uri": "https://localhost:8080/"
        },
        "outputId": "dd7a0ae1-ec3d-4016-8360-bae5e3e8d76c"
      },
      "source": [
        "# ----------- <Your code> ---------------\n",
        "from torchvision import transforms\n",
        "transform = transforms.Compose([\n",
        "        transforms.Resize(256),\n",
        "        transforms.CenterCrop(224),\n",
        "        transforms.ToTensor(),\n",
        "        transforms.Normalize(\n",
        " mean=[0.485, 0.456, 0.406],\n",
        " std=[0.229, 0.224, 0.225]\n",
        " )])\n",
        "\n",
        "\n",
        "batch_size = 4\n",
        "\n",
        "trainset = torchvision.datasets.CIFAR10(root='./data', train=True,\n",
        "                                        download=True, transform=transform)\n",
        "trainloader = torch.utils.data.DataLoader(trainset, batch_size=batch_size,\n",
        "                                          shuffle=True, num_workers=4)\n",
        "\n",
        "testset = torchvision.datasets.CIFAR10(root='./data', train=False,\n",
        "                                       download=True, transform=transform)\n",
        "testloader2 = torch.utils.data.DataLoader(testset, batch_size=batch_size,\n",
        "                                         shuffle=False, num_workers=4)\n",
        "\n",
        "\n"
      ],
      "execution_count": 17,
      "outputs": [
        {
          "output_type": "stream",
          "name": "stdout",
          "text": [
            "Files already downloaded and verified\n"
          ]
        },
        {
          "output_type": "stream",
          "name": "stderr",
          "text": [
            "/usr/local/lib/python3.10/dist-packages/torch/utils/data/dataloader.py:557: UserWarning: This DataLoader will create 4 worker processes in total. Our suggested max number of worker in current system is 2, which is smaller than what this DataLoader is going to create. Please be aware that excessive worker creation might get DataLoader running slow or even freeze, lower the worker number to avoid potential slowness/freeze if necessary.\n",
            "  warnings.warn(_create_warning_msg(\n"
          ]
        },
        {
          "output_type": "stream",
          "name": "stdout",
          "text": [
            "Files already downloaded and verified\n"
          ]
        }
      ]
    },
    {
      "cell_type": "markdown",
      "metadata": {
        "id": "k8nR_aBi9Atb"
      },
      "source": [
        "### test data on pretrained model"
      ]
    },
    {
      "cell_type": "markdown",
      "metadata": {
        "id": "N8IXXu-J9grR"
      },
      "source": []
    },
    {
      "cell_type": "code",
      "metadata": {
        "id": "JOuCodyJ4FYp",
        "colab": {
          "base_uri": "https://localhost:8080/"
        },
        "outputId": "872396e8-f7fd-42e5-8f98-03e136d19b62"
      },
      "source": [
        "\n",
        "correct = 0\n",
        "total = 0\n",
        "with torch.no_grad():\n",
        "    for data in testloader2:\n",
        "        images, labels = data\n",
        "        images, labels =images.to(device),labels.to(device)\n",
        "        outputs = resnet18(images)\n",
        "        _, predicted = torch.max(outputs, 1)\n",
        "        total += labels.size(0)\n",
        "        correct += (predicted == labels).sum().item()\n",
        "print('Accuracy of the network on the 10000 test images: %d %%' % (\n",
        "    100 * correct / total))"
      ],
      "execution_count": 18,
      "outputs": [
        {
          "output_type": "stream",
          "name": "stdout",
          "text": [
            "Accuracy of the network on the 10000 test images: 0 %\n"
          ]
        }
      ]
    },
    {
      "cell_type": "markdown",
      "metadata": {
        "id": "ETLezHR0-ByE"
      },
      "source": [
        "###  Update model for CIFAR-10"
      ]
    },
    {
      "cell_type": "markdown",
      "metadata": {
        "id": "BbQrsL-U-Faq"
      },
      "source": [
        "(1) You can try to directly continue to train the model you load with the CIFAR-10 training data.\n",
        "\n",
        "(2) For efficiency, you can try to freeze part of the parameters of the loaded models. For example, you can first freeze all parameters by\n",
        "\n",
        "```\n",
        "for param in model.parameters():\n",
        "    param.requires_grad = False\n",
        "```\n",
        "and then unfreeze the last few layers by setting `somelayer.requires_grad=True`.\n"
      ]
    },
    {
      "cell_type": "code",
      "metadata": {
        "id": "D2H2oDDyWv8t",
        "colab": {
          "base_uri": "https://localhost:8080/"
        },
        "outputId": "8fa595af-0b9b-4c0c-9277-bf325eefd07b"
      },
      "source": [
        "criterion = nn.CrossEntropyLoss()\n",
        "\n",
        "optimizer = optim.SGD(resnet18.parameters(), lr=0.001, momentum=0.9)\n",
        "\n",
        "\n",
        "for epoch in range(1):  # loop over the dataset multiple times\n",
        "\n",
        "    running_loss = 0.0\n",
        "    for i, data in enumerate(trainloader, 0):\n",
        "        # get the inputs; data is a list of [inputs, labels]\n",
        "        inputs, labels = data\n",
        "        optimizer.zero_grad()\n",
        "        with torch.set_grad_enabled(True):\n",
        "          inputs = inputs.to(device)\n",
        "          labels = labels.to(device)\n",
        "          outputs = resnet18(inputs)\n",
        "          loss = criterion(outputs, labels)\n",
        "          loss.backward()\n",
        "          optimizer.step()\n",
        "          running_loss += loss.item()\n",
        "          if i % 2000 == 1999:\n",
        "              print('[%d, %5d] loss: %.3f' %\n",
        "                    (epoch + 1, i + 1, running_loss / 2000))\n",
        "              running_loss = 0.0\n",
        "\n",
        "print('Training is done')\n"
      ],
      "execution_count": 19,
      "outputs": [
        {
          "output_type": "stream",
          "name": "stdout",
          "text": [
            "[1,  2000] loss: 1.669\n",
            "[1,  4000] loss: 1.007\n",
            "[1,  6000] loss: 0.854\n",
            "[1,  8000] loss: 0.752\n",
            "[1, 10000] loss: 0.685\n",
            "[1, 12000] loss: 0.619\n",
            "Training is done\n"
          ]
        }
      ]
    },
    {
      "cell_type": "code",
      "metadata": {
        "colab": {
          "base_uri": "https://localhost:8080/"
        },
        "id": "v56UUIYf3kxr",
        "outputId": "fd29c2db-10c3-486a-dbaa-968b0e353ace"
      },
      "source": [
        "correct = 0\n",
        "total = 0\n",
        "with torch.no_grad():\n",
        "    for data in testloader2:\n",
        "        inputs, labels = data\n",
        "        inputs = inputs.to(device)\n",
        "        labels = labels.to(device)\n",
        "        outputs = resnet18(inputs)\n",
        "        _, predicted = torch.max(outputs.data, 1)\n",
        "\n",
        "        total += labels.size(0)\n",
        "        correct += (predicted == labels).sum().item()\n",
        "\n",
        "\n",
        "print('Accuracy of the network on the 10000 test images: %d %%' % (\n",
        "    100 * correct / total))"
      ],
      "execution_count": 20,
      "outputs": [
        {
          "output_type": "stream",
          "name": "stdout",
          "text": [
            "Accuracy of the network on the 10000 test images: 80 %\n"
          ]
        }
      ]
    }
  ]
}