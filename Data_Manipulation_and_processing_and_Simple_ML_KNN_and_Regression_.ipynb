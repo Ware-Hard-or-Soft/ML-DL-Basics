{
  "nbformat": 4,
  "nbformat_minor": 0,
  "metadata": {
    "accelerator": "GPU",
    "colab": {
      "provenance": [],
      "toc_visible": true,
      "include_colab_link": true
    },
    "kernelspec": {
      "display_name": "Python 3",
      "language": "python",
      "name": "python3"
    },
    "language_info": {
      "codemirror_mode": {
        "name": "ipython",
        "version": 3
      },
      "file_extension": ".py",
      "mimetype": "text/x-python",
      "name": "python",
      "nbconvert_exporter": "python",
      "pygments_lexer": "ipython3",
      "version": "3.8.8"
    }
  },
  "cells": [
    {
      "cell_type": "markdown",
      "metadata": {
        "id": "view-in-github",
        "colab_type": "text"
      },
      "source": [
        "<a href=\"https://colab.research.google.com/github/Ware-Hard-or-Soft/ML-DL-projects/blob/main/Data_Manipulation_and_processing_and_Simple_ML_KNN_and_Regression_.ipynb\" target=\"_parent\"><img src=\"https://colab.research.google.com/assets/colab-badge.svg\" alt=\"Open In Colab\"/></a>"
      ]
    },
    {
      "cell_type": "markdown",
      "metadata": {
        "id": "zmwWs4S9cRIn"
      },
      "source": [
        "# ML/DL Basics\n",
        "By David Zheng\n",
        "* Data Manipulation and processing\n",
        "* Simple ML: KNN and Regression"
      ]
    },
    {
      "cell_type": "markdown",
      "metadata": {
        "id": "Zz2T0QYYpwVR"
      },
      "source": [
        "## Section 1: Loading and manipulating data\n",
        "\n",
        "In this lab we will use Pandas and Scikit-learn packages to create and analyse data."
      ]
    },
    {
      "cell_type": "markdown",
      "metadata": {
        "id": "4ynAt8ZRh4YF"
      },
      "source": [
        "### Basics of pandas and Scikit-learn\n",
        "**Pandas** helps on loading different types of raw data and manipulate the data in a highly effective way.\n",
        "**Scikit-learn** can help creating/preprocessing data and performing standard machine learning tasks such as classification, regression, clustering, etc."
      ]
    },
    {
      "cell_type": "markdown",
      "metadata": {
        "id": "4YfOwq3GnRBO"
      },
      "source": [
        "### Load the data\n"
      ]
    },
    {
      "cell_type": "code",
      "metadata": {
        "id": "ZV9ynXASoHTZ"
      },
      "source": [
        "#from google.colab import drive\n",
        "#drive.mount('/content/drive')"
      ],
      "execution_count": 3,
      "outputs": []
    },
    {
      "cell_type": "markdown",
      "metadata": {
        "id": "LKZhi88XpMTx"
      },
      "source": [
        "Mounting your drive"
      ]
    },
    {
      "cell_type": "code",
      "metadata": {
        "id": "nedmSgoBqQjv"
      },
      "source": [
        "import pandas as pd\n",
        "# This will give an error because the file does not exist but illustrates how to do it\n",
        "#data = pd.read_csv(\"Your-csvFile-location\")"
      ],
      "execution_count": 4,
      "outputs": []
    },
    {
      "cell_type": "markdown",
      "metadata": {
        "id": "epemYbNAq3aR"
      },
      "source": [
        "Besides simply loading csv files, there are some useful functions for manipulating data."
      ]
    },
    {
      "cell_type": "code",
      "metadata": {
        "colab": {
          "base_uri": "https://localhost:8080/",
          "height": 359
        },
        "id": "o7WAtFtfq1xc",
        "outputId": "2751b8f0-8462-4375-9173-8d4ff391f9b8"
      },
      "source": [
        "import pandas as pd\n",
        "import numpy as np\n",
        "\n",
        "# Creating Dataframe structure from numpy array\n",
        "df1 = pd.DataFrame(np.random.randn(10,3),columns=['col1','col2','col3'])\n",
        "df1"
      ],
      "execution_count": 1,
      "outputs": [
        {
          "output_type": "execute_result",
          "data": {
            "text/plain": [
              "       col1      col2      col3\n",
              "0  0.061532  0.552267 -1.595902\n",
              "1  0.859750  0.198083 -3.269689\n",
              "2  1.444490 -1.014270  0.302433\n",
              "3 -0.228246  0.358084 -0.510552\n",
              "4 -0.085324 -0.951621  0.232339\n",
              "5 -0.150827 -1.108535 -0.902532\n",
              "6  0.500837  0.758578  1.813615\n",
              "7 -0.059894 -0.396928  0.130863\n",
              "8  1.754047  1.406612 -1.048259\n",
              "9  1.780580  0.021000  0.306399"
            ],
            "text/html": [
              "\n",
              "  <div id=\"df-24ac9e7d-cbf2-464d-804d-69ba550c2598\" class=\"colab-df-container\">\n",
              "    <div>\n",
              "<style scoped>\n",
              "    .dataframe tbody tr th:only-of-type {\n",
              "        vertical-align: middle;\n",
              "    }\n",
              "\n",
              "    .dataframe tbody tr th {\n",
              "        vertical-align: top;\n",
              "    }\n",
              "\n",
              "    .dataframe thead th {\n",
              "        text-align: right;\n",
              "    }\n",
              "</style>\n",
              "<table border=\"1\" class=\"dataframe\">\n",
              "  <thead>\n",
              "    <tr style=\"text-align: right;\">\n",
              "      <th></th>\n",
              "      <th>col1</th>\n",
              "      <th>col2</th>\n",
              "      <th>col3</th>\n",
              "    </tr>\n",
              "  </thead>\n",
              "  <tbody>\n",
              "    <tr>\n",
              "      <th>0</th>\n",
              "      <td>0.061532</td>\n",
              "      <td>0.552267</td>\n",
              "      <td>-1.595902</td>\n",
              "    </tr>\n",
              "    <tr>\n",
              "      <th>1</th>\n",
              "      <td>0.859750</td>\n",
              "      <td>0.198083</td>\n",
              "      <td>-3.269689</td>\n",
              "    </tr>\n",
              "    <tr>\n",
              "      <th>2</th>\n",
              "      <td>1.444490</td>\n",
              "      <td>-1.014270</td>\n",
              "      <td>0.302433</td>\n",
              "    </tr>\n",
              "    <tr>\n",
              "      <th>3</th>\n",
              "      <td>-0.228246</td>\n",
              "      <td>0.358084</td>\n",
              "      <td>-0.510552</td>\n",
              "    </tr>\n",
              "    <tr>\n",
              "      <th>4</th>\n",
              "      <td>-0.085324</td>\n",
              "      <td>-0.951621</td>\n",
              "      <td>0.232339</td>\n",
              "    </tr>\n",
              "    <tr>\n",
              "      <th>5</th>\n",
              "      <td>-0.150827</td>\n",
              "      <td>-1.108535</td>\n",
              "      <td>-0.902532</td>\n",
              "    </tr>\n",
              "    <tr>\n",
              "      <th>6</th>\n",
              "      <td>0.500837</td>\n",
              "      <td>0.758578</td>\n",
              "      <td>1.813615</td>\n",
              "    </tr>\n",
              "    <tr>\n",
              "      <th>7</th>\n",
              "      <td>-0.059894</td>\n",
              "      <td>-0.396928</td>\n",
              "      <td>0.130863</td>\n",
              "    </tr>\n",
              "    <tr>\n",
              "      <th>8</th>\n",
              "      <td>1.754047</td>\n",
              "      <td>1.406612</td>\n",
              "      <td>-1.048259</td>\n",
              "    </tr>\n",
              "    <tr>\n",
              "      <th>9</th>\n",
              "      <td>1.780580</td>\n",
              "      <td>0.021000</td>\n",
              "      <td>0.306399</td>\n",
              "    </tr>\n",
              "  </tbody>\n",
              "</table>\n",
              "</div>\n",
              "    <div class=\"colab-df-buttons\">\n",
              "\n",
              "  <div class=\"colab-df-container\">\n",
              "    <button class=\"colab-df-convert\" onclick=\"convertToInteractive('df-24ac9e7d-cbf2-464d-804d-69ba550c2598')\"\n",
              "            title=\"Convert this dataframe to an interactive table.\"\n",
              "            style=\"display:none;\">\n",
              "\n",
              "  <svg xmlns=\"http://www.w3.org/2000/svg\" height=\"24px\" viewBox=\"0 -960 960 960\">\n",
              "    <path d=\"M120-120v-720h720v720H120Zm60-500h600v-160H180v160Zm220 220h160v-160H400v160Zm0 220h160v-160H400v160ZM180-400h160v-160H180v160Zm440 0h160v-160H620v160ZM180-180h160v-160H180v160Zm440 0h160v-160H620v160Z\"/>\n",
              "  </svg>\n",
              "    </button>\n",
              "\n",
              "  <style>\n",
              "    .colab-df-container {\n",
              "      display:flex;\n",
              "      gap: 12px;\n",
              "    }\n",
              "\n",
              "    .colab-df-convert {\n",
              "      background-color: #E8F0FE;\n",
              "      border: none;\n",
              "      border-radius: 50%;\n",
              "      cursor: pointer;\n",
              "      display: none;\n",
              "      fill: #1967D2;\n",
              "      height: 32px;\n",
              "      padding: 0 0 0 0;\n",
              "      width: 32px;\n",
              "    }\n",
              "\n",
              "    .colab-df-convert:hover {\n",
              "      background-color: #E2EBFA;\n",
              "      box-shadow: 0px 1px 2px rgba(60, 64, 67, 0.3), 0px 1px 3px 1px rgba(60, 64, 67, 0.15);\n",
              "      fill: #174EA6;\n",
              "    }\n",
              "\n",
              "    .colab-df-buttons div {\n",
              "      margin-bottom: 4px;\n",
              "    }\n",
              "\n",
              "    [theme=dark] .colab-df-convert {\n",
              "      background-color: #3B4455;\n",
              "      fill: #D2E3FC;\n",
              "    }\n",
              "\n",
              "    [theme=dark] .colab-df-convert:hover {\n",
              "      background-color: #434B5C;\n",
              "      box-shadow: 0px 1px 3px 1px rgba(0, 0, 0, 0.15);\n",
              "      filter: drop-shadow(0px 1px 2px rgba(0, 0, 0, 0.3));\n",
              "      fill: #FFFFFF;\n",
              "    }\n",
              "  </style>\n",
              "\n",
              "    <script>\n",
              "      const buttonEl =\n",
              "        document.querySelector('#df-24ac9e7d-cbf2-464d-804d-69ba550c2598 button.colab-df-convert');\n",
              "      buttonEl.style.display =\n",
              "        google.colab.kernel.accessAllowed ? 'block' : 'none';\n",
              "\n",
              "      async function convertToInteractive(key) {\n",
              "        const element = document.querySelector('#df-24ac9e7d-cbf2-464d-804d-69ba550c2598');\n",
              "        const dataTable =\n",
              "          await google.colab.kernel.invokeFunction('convertToInteractive',\n",
              "                                                    [key], {});\n",
              "        if (!dataTable) return;\n",
              "\n",
              "        const docLinkHtml = 'Like what you see? Visit the ' +\n",
              "          '<a target=\"_blank\" href=https://colab.research.google.com/notebooks/data_table.ipynb>data table notebook</a>'\n",
              "          + ' to learn more about interactive tables.';\n",
              "        element.innerHTML = '';\n",
              "        dataTable['output_type'] = 'display_data';\n",
              "        await google.colab.output.renderOutput(dataTable, element);\n",
              "        const docLink = document.createElement('div');\n",
              "        docLink.innerHTML = docLinkHtml;\n",
              "        element.appendChild(docLink);\n",
              "      }\n",
              "    </script>\n",
              "  </div>\n",
              "\n",
              "\n",
              "<div id=\"df-c30ce690-d290-447e-bec8-2c33dce33f39\">\n",
              "  <button class=\"colab-df-quickchart\" onclick=\"quickchart('df-c30ce690-d290-447e-bec8-2c33dce33f39')\"\n",
              "            title=\"Suggest charts\"\n",
              "            style=\"display:none;\">\n",
              "\n",
              "<svg xmlns=\"http://www.w3.org/2000/svg\" height=\"24px\"viewBox=\"0 0 24 24\"\n",
              "     width=\"24px\">\n",
              "    <g>\n",
              "        <path d=\"M19 3H5c-1.1 0-2 .9-2 2v14c0 1.1.9 2 2 2h14c1.1 0 2-.9 2-2V5c0-1.1-.9-2-2-2zM9 17H7v-7h2v7zm4 0h-2V7h2v10zm4 0h-2v-4h2v4z\"/>\n",
              "    </g>\n",
              "</svg>\n",
              "  </button>\n",
              "\n",
              "<style>\n",
              "  .colab-df-quickchart {\n",
              "      --bg-color: #E8F0FE;\n",
              "      --fill-color: #1967D2;\n",
              "      --hover-bg-color: #E2EBFA;\n",
              "      --hover-fill-color: #174EA6;\n",
              "      --disabled-fill-color: #AAA;\n",
              "      --disabled-bg-color: #DDD;\n",
              "  }\n",
              "\n",
              "  [theme=dark] .colab-df-quickchart {\n",
              "      --bg-color: #3B4455;\n",
              "      --fill-color: #D2E3FC;\n",
              "      --hover-bg-color: #434B5C;\n",
              "      --hover-fill-color: #FFFFFF;\n",
              "      --disabled-bg-color: #3B4455;\n",
              "      --disabled-fill-color: #666;\n",
              "  }\n",
              "\n",
              "  .colab-df-quickchart {\n",
              "    background-color: var(--bg-color);\n",
              "    border: none;\n",
              "    border-radius: 50%;\n",
              "    cursor: pointer;\n",
              "    display: none;\n",
              "    fill: var(--fill-color);\n",
              "    height: 32px;\n",
              "    padding: 0;\n",
              "    width: 32px;\n",
              "  }\n",
              "\n",
              "  .colab-df-quickchart:hover {\n",
              "    background-color: var(--hover-bg-color);\n",
              "    box-shadow: 0 1px 2px rgba(60, 64, 67, 0.3), 0 1px 3px 1px rgba(60, 64, 67, 0.15);\n",
              "    fill: var(--button-hover-fill-color);\n",
              "  }\n",
              "\n",
              "  .colab-df-quickchart-complete:disabled,\n",
              "  .colab-df-quickchart-complete:disabled:hover {\n",
              "    background-color: var(--disabled-bg-color);\n",
              "    fill: var(--disabled-fill-color);\n",
              "    box-shadow: none;\n",
              "  }\n",
              "\n",
              "  .colab-df-spinner {\n",
              "    border: 2px solid var(--fill-color);\n",
              "    border-color: transparent;\n",
              "    border-bottom-color: var(--fill-color);\n",
              "    animation:\n",
              "      spin 1s steps(1) infinite;\n",
              "  }\n",
              "\n",
              "  @keyframes spin {\n",
              "    0% {\n",
              "      border-color: transparent;\n",
              "      border-bottom-color: var(--fill-color);\n",
              "      border-left-color: var(--fill-color);\n",
              "    }\n",
              "    20% {\n",
              "      border-color: transparent;\n",
              "      border-left-color: var(--fill-color);\n",
              "      border-top-color: var(--fill-color);\n",
              "    }\n",
              "    30% {\n",
              "      border-color: transparent;\n",
              "      border-left-color: var(--fill-color);\n",
              "      border-top-color: var(--fill-color);\n",
              "      border-right-color: var(--fill-color);\n",
              "    }\n",
              "    40% {\n",
              "      border-color: transparent;\n",
              "      border-right-color: var(--fill-color);\n",
              "      border-top-color: var(--fill-color);\n",
              "    }\n",
              "    60% {\n",
              "      border-color: transparent;\n",
              "      border-right-color: var(--fill-color);\n",
              "    }\n",
              "    80% {\n",
              "      border-color: transparent;\n",
              "      border-right-color: var(--fill-color);\n",
              "      border-bottom-color: var(--fill-color);\n",
              "    }\n",
              "    90% {\n",
              "      border-color: transparent;\n",
              "      border-bottom-color: var(--fill-color);\n",
              "    }\n",
              "  }\n",
              "</style>\n",
              "\n",
              "  <script>\n",
              "    async function quickchart(key) {\n",
              "      const quickchartButtonEl =\n",
              "        document.querySelector('#' + key + ' button');\n",
              "      quickchartButtonEl.disabled = true;  // To prevent multiple clicks.\n",
              "      quickchartButtonEl.classList.add('colab-df-spinner');\n",
              "      try {\n",
              "        const charts = await google.colab.kernel.invokeFunction(\n",
              "            'suggestCharts', [key], {});\n",
              "      } catch (error) {\n",
              "        console.error('Error during call to suggestCharts:', error);\n",
              "      }\n",
              "      quickchartButtonEl.classList.remove('colab-df-spinner');\n",
              "      quickchartButtonEl.classList.add('colab-df-quickchart-complete');\n",
              "    }\n",
              "    (() => {\n",
              "      let quickchartButtonEl =\n",
              "        document.querySelector('#df-c30ce690-d290-447e-bec8-2c33dce33f39 button');\n",
              "      quickchartButtonEl.style.display =\n",
              "        google.colab.kernel.accessAllowed ? 'block' : 'none';\n",
              "    })();\n",
              "  </script>\n",
              "</div>\n",
              "\n",
              "  <div id=\"id_21fd86ac-517f-4cc4-837c-d32866fc68ea\">\n",
              "    <style>\n",
              "      .colab-df-generate {\n",
              "        background-color: #E8F0FE;\n",
              "        border: none;\n",
              "        border-radius: 50%;\n",
              "        cursor: pointer;\n",
              "        display: none;\n",
              "        fill: #1967D2;\n",
              "        height: 32px;\n",
              "        padding: 0 0 0 0;\n",
              "        width: 32px;\n",
              "      }\n",
              "\n",
              "      .colab-df-generate:hover {\n",
              "        background-color: #E2EBFA;\n",
              "        box-shadow: 0px 1px 2px rgba(60, 64, 67, 0.3), 0px 1px 3px 1px rgba(60, 64, 67, 0.15);\n",
              "        fill: #174EA6;\n",
              "      }\n",
              "\n",
              "      [theme=dark] .colab-df-generate {\n",
              "        background-color: #3B4455;\n",
              "        fill: #D2E3FC;\n",
              "      }\n",
              "\n",
              "      [theme=dark] .colab-df-generate:hover {\n",
              "        background-color: #434B5C;\n",
              "        box-shadow: 0px 1px 3px 1px rgba(0, 0, 0, 0.15);\n",
              "        filter: drop-shadow(0px 1px 2px rgba(0, 0, 0, 0.3));\n",
              "        fill: #FFFFFF;\n",
              "      }\n",
              "    </style>\n",
              "    <button class=\"colab-df-generate\" onclick=\"generateWithVariable('df1')\"\n",
              "            title=\"Generate code using this dataframe.\"\n",
              "            style=\"display:none;\">\n",
              "\n",
              "  <svg xmlns=\"http://www.w3.org/2000/svg\" height=\"24px\"viewBox=\"0 0 24 24\"\n",
              "       width=\"24px\">\n",
              "    <path d=\"M7,19H8.4L18.45,9,17,7.55,7,17.6ZM5,21V16.75L18.45,3.32a2,2,0,0,1,2.83,0l1.4,1.43a1.91,1.91,0,0,1,.58,1.4,1.91,1.91,0,0,1-.58,1.4L9.25,21ZM18.45,9,17,7.55Zm-12,3A5.31,5.31,0,0,0,4.9,8.1,5.31,5.31,0,0,0,1,6.5,5.31,5.31,0,0,0,4.9,4.9,5.31,5.31,0,0,0,6.5,1,5.31,5.31,0,0,0,8.1,4.9,5.31,5.31,0,0,0,12,6.5,5.46,5.46,0,0,0,6.5,12Z\"/>\n",
              "  </svg>\n",
              "    </button>\n",
              "    <script>\n",
              "      (() => {\n",
              "      const buttonEl =\n",
              "        document.querySelector('#id_21fd86ac-517f-4cc4-837c-d32866fc68ea button.colab-df-generate');\n",
              "      buttonEl.style.display =\n",
              "        google.colab.kernel.accessAllowed ? 'block' : 'none';\n",
              "\n",
              "      buttonEl.onclick = () => {\n",
              "        google.colab.notebook.generateWithVariable('df1');\n",
              "      }\n",
              "      })();\n",
              "    </script>\n",
              "  </div>\n",
              "\n",
              "    </div>\n",
              "  </div>\n"
            ],
            "application/vnd.google.colaboratory.intrinsic+json": {
              "type": "dataframe",
              "variable_name": "df1",
              "summary": "{\n  \"name\": \"df1\",\n  \"rows\": 10,\n  \"fields\": [\n    {\n      \"column\": \"col1\",\n      \"properties\": {\n        \"dtype\": \"number\",\n        \"std\": 0.8137261799452553,\n        \"min\": -0.2282457486574715,\n        \"max\": 1.780579549686689,\n        \"num_unique_values\": 10,\n        \"samples\": [\n          1.7540468148775943,\n          0.8597496565656719,\n          -0.15082705123856144\n        ],\n        \"semantic_type\": \"\",\n        \"description\": \"\"\n      }\n    },\n    {\n      \"column\": \"col2\",\n      \"properties\": {\n        \"dtype\": \"number\",\n        \"std\": 0.8396097616505414,\n        \"min\": -1.108534806417308,\n        \"max\": 1.406611712454772,\n        \"num_unique_values\": 10,\n        \"samples\": [\n          1.406611712454772,\n          0.1980827205216088,\n          -1.108534806417308\n        ],\n        \"semantic_type\": \"\",\n        \"description\": \"\"\n      }\n    },\n    {\n      \"column\": \"col3\",\n      \"properties\": {\n        \"dtype\": \"number\",\n        \"std\": 1.370124481605365,\n        \"min\": -3.26968936797835,\n        \"max\": 1.8136153315535923,\n        \"num_unique_values\": 10,\n        \"samples\": [\n          -1.048258584876321,\n          -3.26968936797835,\n          -0.902531699243548\n        ],\n        \"semantic_type\": \"\",\n        \"description\": \"\"\n      }\n    }\n  ]\n}"
            }
          },
          "metadata": {},
          "execution_count": 1
        }
      ]
    },
    {
      "cell_type": "code",
      "metadata": {
        "colab": {
          "base_uri": "https://localhost:8080/",
          "height": 359
        },
        "id": "PIi-CaNsrnv1",
        "outputId": "188eb69e-cf89-481e-8ed2-40c044813a99"
      },
      "source": [
        "# Drop a column\n",
        "df2 = df1.drop(['col1'], axis=1)\n",
        "df2"
      ],
      "execution_count": 5,
      "outputs": [
        {
          "output_type": "execute_result",
          "data": {
            "text/plain": [
              "       col2      col3\n",
              "0  0.552267 -1.595902\n",
              "1  0.198083 -3.269689\n",
              "2 -1.014270  0.302433\n",
              "3  0.358084 -0.510552\n",
              "4 -0.951621  0.232339\n",
              "5 -1.108535 -0.902532\n",
              "6  0.758578  1.813615\n",
              "7 -0.396928  0.130863\n",
              "8  1.406612 -1.048259\n",
              "9  0.021000  0.306399"
            ],
            "text/html": [
              "\n",
              "  <div id=\"df-3d3b5ab0-7ec5-47cc-877f-6b752cc15f8a\" class=\"colab-df-container\">\n",
              "    <div>\n",
              "<style scoped>\n",
              "    .dataframe tbody tr th:only-of-type {\n",
              "        vertical-align: middle;\n",
              "    }\n",
              "\n",
              "    .dataframe tbody tr th {\n",
              "        vertical-align: top;\n",
              "    }\n",
              "\n",
              "    .dataframe thead th {\n",
              "        text-align: right;\n",
              "    }\n",
              "</style>\n",
              "<table border=\"1\" class=\"dataframe\">\n",
              "  <thead>\n",
              "    <tr style=\"text-align: right;\">\n",
              "      <th></th>\n",
              "      <th>col2</th>\n",
              "      <th>col3</th>\n",
              "    </tr>\n",
              "  </thead>\n",
              "  <tbody>\n",
              "    <tr>\n",
              "      <th>0</th>\n",
              "      <td>0.552267</td>\n",
              "      <td>-1.595902</td>\n",
              "    </tr>\n",
              "    <tr>\n",
              "      <th>1</th>\n",
              "      <td>0.198083</td>\n",
              "      <td>-3.269689</td>\n",
              "    </tr>\n",
              "    <tr>\n",
              "      <th>2</th>\n",
              "      <td>-1.014270</td>\n",
              "      <td>0.302433</td>\n",
              "    </tr>\n",
              "    <tr>\n",
              "      <th>3</th>\n",
              "      <td>0.358084</td>\n",
              "      <td>-0.510552</td>\n",
              "    </tr>\n",
              "    <tr>\n",
              "      <th>4</th>\n",
              "      <td>-0.951621</td>\n",
              "      <td>0.232339</td>\n",
              "    </tr>\n",
              "    <tr>\n",
              "      <th>5</th>\n",
              "      <td>-1.108535</td>\n",
              "      <td>-0.902532</td>\n",
              "    </tr>\n",
              "    <tr>\n",
              "      <th>6</th>\n",
              "      <td>0.758578</td>\n",
              "      <td>1.813615</td>\n",
              "    </tr>\n",
              "    <tr>\n",
              "      <th>7</th>\n",
              "      <td>-0.396928</td>\n",
              "      <td>0.130863</td>\n",
              "    </tr>\n",
              "    <tr>\n",
              "      <th>8</th>\n",
              "      <td>1.406612</td>\n",
              "      <td>-1.048259</td>\n",
              "    </tr>\n",
              "    <tr>\n",
              "      <th>9</th>\n",
              "      <td>0.021000</td>\n",
              "      <td>0.306399</td>\n",
              "    </tr>\n",
              "  </tbody>\n",
              "</table>\n",
              "</div>\n",
              "    <div class=\"colab-df-buttons\">\n",
              "\n",
              "  <div class=\"colab-df-container\">\n",
              "    <button class=\"colab-df-convert\" onclick=\"convertToInteractive('df-3d3b5ab0-7ec5-47cc-877f-6b752cc15f8a')\"\n",
              "            title=\"Convert this dataframe to an interactive table.\"\n",
              "            style=\"display:none;\">\n",
              "\n",
              "  <svg xmlns=\"http://www.w3.org/2000/svg\" height=\"24px\" viewBox=\"0 -960 960 960\">\n",
              "    <path d=\"M120-120v-720h720v720H120Zm60-500h600v-160H180v160Zm220 220h160v-160H400v160Zm0 220h160v-160H400v160ZM180-400h160v-160H180v160Zm440 0h160v-160H620v160ZM180-180h160v-160H180v160Zm440 0h160v-160H620v160Z\"/>\n",
              "  </svg>\n",
              "    </button>\n",
              "\n",
              "  <style>\n",
              "    .colab-df-container {\n",
              "      display:flex;\n",
              "      gap: 12px;\n",
              "    }\n",
              "\n",
              "    .colab-df-convert {\n",
              "      background-color: #E8F0FE;\n",
              "      border: none;\n",
              "      border-radius: 50%;\n",
              "      cursor: pointer;\n",
              "      display: none;\n",
              "      fill: #1967D2;\n",
              "      height: 32px;\n",
              "      padding: 0 0 0 0;\n",
              "      width: 32px;\n",
              "    }\n",
              "\n",
              "    .colab-df-convert:hover {\n",
              "      background-color: #E2EBFA;\n",
              "      box-shadow: 0px 1px 2px rgba(60, 64, 67, 0.3), 0px 1px 3px 1px rgba(60, 64, 67, 0.15);\n",
              "      fill: #174EA6;\n",
              "    }\n",
              "\n",
              "    .colab-df-buttons div {\n",
              "      margin-bottom: 4px;\n",
              "    }\n",
              "\n",
              "    [theme=dark] .colab-df-convert {\n",
              "      background-color: #3B4455;\n",
              "      fill: #D2E3FC;\n",
              "    }\n",
              "\n",
              "    [theme=dark] .colab-df-convert:hover {\n",
              "      background-color: #434B5C;\n",
              "      box-shadow: 0px 1px 3px 1px rgba(0, 0, 0, 0.15);\n",
              "      filter: drop-shadow(0px 1px 2px rgba(0, 0, 0, 0.3));\n",
              "      fill: #FFFFFF;\n",
              "    }\n",
              "  </style>\n",
              "\n",
              "    <script>\n",
              "      const buttonEl =\n",
              "        document.querySelector('#df-3d3b5ab0-7ec5-47cc-877f-6b752cc15f8a button.colab-df-convert');\n",
              "      buttonEl.style.display =\n",
              "        google.colab.kernel.accessAllowed ? 'block' : 'none';\n",
              "\n",
              "      async function convertToInteractive(key) {\n",
              "        const element = document.querySelector('#df-3d3b5ab0-7ec5-47cc-877f-6b752cc15f8a');\n",
              "        const dataTable =\n",
              "          await google.colab.kernel.invokeFunction('convertToInteractive',\n",
              "                                                    [key], {});\n",
              "        if (!dataTable) return;\n",
              "\n",
              "        const docLinkHtml = 'Like what you see? Visit the ' +\n",
              "          '<a target=\"_blank\" href=https://colab.research.google.com/notebooks/data_table.ipynb>data table notebook</a>'\n",
              "          + ' to learn more about interactive tables.';\n",
              "        element.innerHTML = '';\n",
              "        dataTable['output_type'] = 'display_data';\n",
              "        await google.colab.output.renderOutput(dataTable, element);\n",
              "        const docLink = document.createElement('div');\n",
              "        docLink.innerHTML = docLinkHtml;\n",
              "        element.appendChild(docLink);\n",
              "      }\n",
              "    </script>\n",
              "  </div>\n",
              "\n",
              "\n",
              "<div id=\"df-778d89a5-33bc-48a9-afde-06bdc8f31308\">\n",
              "  <button class=\"colab-df-quickchart\" onclick=\"quickchart('df-778d89a5-33bc-48a9-afde-06bdc8f31308')\"\n",
              "            title=\"Suggest charts\"\n",
              "            style=\"display:none;\">\n",
              "\n",
              "<svg xmlns=\"http://www.w3.org/2000/svg\" height=\"24px\"viewBox=\"0 0 24 24\"\n",
              "     width=\"24px\">\n",
              "    <g>\n",
              "        <path d=\"M19 3H5c-1.1 0-2 .9-2 2v14c0 1.1.9 2 2 2h14c1.1 0 2-.9 2-2V5c0-1.1-.9-2-2-2zM9 17H7v-7h2v7zm4 0h-2V7h2v10zm4 0h-2v-4h2v4z\"/>\n",
              "    </g>\n",
              "</svg>\n",
              "  </button>\n",
              "\n",
              "<style>\n",
              "  .colab-df-quickchart {\n",
              "      --bg-color: #E8F0FE;\n",
              "      --fill-color: #1967D2;\n",
              "      --hover-bg-color: #E2EBFA;\n",
              "      --hover-fill-color: #174EA6;\n",
              "      --disabled-fill-color: #AAA;\n",
              "      --disabled-bg-color: #DDD;\n",
              "  }\n",
              "\n",
              "  [theme=dark] .colab-df-quickchart {\n",
              "      --bg-color: #3B4455;\n",
              "      --fill-color: #D2E3FC;\n",
              "      --hover-bg-color: #434B5C;\n",
              "      --hover-fill-color: #FFFFFF;\n",
              "      --disabled-bg-color: #3B4455;\n",
              "      --disabled-fill-color: #666;\n",
              "  }\n",
              "\n",
              "  .colab-df-quickchart {\n",
              "    background-color: var(--bg-color);\n",
              "    border: none;\n",
              "    border-radius: 50%;\n",
              "    cursor: pointer;\n",
              "    display: none;\n",
              "    fill: var(--fill-color);\n",
              "    height: 32px;\n",
              "    padding: 0;\n",
              "    width: 32px;\n",
              "  }\n",
              "\n",
              "  .colab-df-quickchart:hover {\n",
              "    background-color: var(--hover-bg-color);\n",
              "    box-shadow: 0 1px 2px rgba(60, 64, 67, 0.3), 0 1px 3px 1px rgba(60, 64, 67, 0.15);\n",
              "    fill: var(--button-hover-fill-color);\n",
              "  }\n",
              "\n",
              "  .colab-df-quickchart-complete:disabled,\n",
              "  .colab-df-quickchart-complete:disabled:hover {\n",
              "    background-color: var(--disabled-bg-color);\n",
              "    fill: var(--disabled-fill-color);\n",
              "    box-shadow: none;\n",
              "  }\n",
              "\n",
              "  .colab-df-spinner {\n",
              "    border: 2px solid var(--fill-color);\n",
              "    border-color: transparent;\n",
              "    border-bottom-color: var(--fill-color);\n",
              "    animation:\n",
              "      spin 1s steps(1) infinite;\n",
              "  }\n",
              "\n",
              "  @keyframes spin {\n",
              "    0% {\n",
              "      border-color: transparent;\n",
              "      border-bottom-color: var(--fill-color);\n",
              "      border-left-color: var(--fill-color);\n",
              "    }\n",
              "    20% {\n",
              "      border-color: transparent;\n",
              "      border-left-color: var(--fill-color);\n",
              "      border-top-color: var(--fill-color);\n",
              "    }\n",
              "    30% {\n",
              "      border-color: transparent;\n",
              "      border-left-color: var(--fill-color);\n",
              "      border-top-color: var(--fill-color);\n",
              "      border-right-color: var(--fill-color);\n",
              "    }\n",
              "    40% {\n",
              "      border-color: transparent;\n",
              "      border-right-color: var(--fill-color);\n",
              "      border-top-color: var(--fill-color);\n",
              "    }\n",
              "    60% {\n",
              "      border-color: transparent;\n",
              "      border-right-color: var(--fill-color);\n",
              "    }\n",
              "    80% {\n",
              "      border-color: transparent;\n",
              "      border-right-color: var(--fill-color);\n",
              "      border-bottom-color: var(--fill-color);\n",
              "    }\n",
              "    90% {\n",
              "      border-color: transparent;\n",
              "      border-bottom-color: var(--fill-color);\n",
              "    }\n",
              "  }\n",
              "</style>\n",
              "\n",
              "  <script>\n",
              "    async function quickchart(key) {\n",
              "      const quickchartButtonEl =\n",
              "        document.querySelector('#' + key + ' button');\n",
              "      quickchartButtonEl.disabled = true;  // To prevent multiple clicks.\n",
              "      quickchartButtonEl.classList.add('colab-df-spinner');\n",
              "      try {\n",
              "        const charts = await google.colab.kernel.invokeFunction(\n",
              "            'suggestCharts', [key], {});\n",
              "      } catch (error) {\n",
              "        console.error('Error during call to suggestCharts:', error);\n",
              "      }\n",
              "      quickchartButtonEl.classList.remove('colab-df-spinner');\n",
              "      quickchartButtonEl.classList.add('colab-df-quickchart-complete');\n",
              "    }\n",
              "    (() => {\n",
              "      let quickchartButtonEl =\n",
              "        document.querySelector('#df-778d89a5-33bc-48a9-afde-06bdc8f31308 button');\n",
              "      quickchartButtonEl.style.display =\n",
              "        google.colab.kernel.accessAllowed ? 'block' : 'none';\n",
              "    })();\n",
              "  </script>\n",
              "</div>\n",
              "\n",
              "  <div id=\"id_915b4d1a-044f-4ac4-afdc-3098ac6cb97d\">\n",
              "    <style>\n",
              "      .colab-df-generate {\n",
              "        background-color: #E8F0FE;\n",
              "        border: none;\n",
              "        border-radius: 50%;\n",
              "        cursor: pointer;\n",
              "        display: none;\n",
              "        fill: #1967D2;\n",
              "        height: 32px;\n",
              "        padding: 0 0 0 0;\n",
              "        width: 32px;\n",
              "      }\n",
              "\n",
              "      .colab-df-generate:hover {\n",
              "        background-color: #E2EBFA;\n",
              "        box-shadow: 0px 1px 2px rgba(60, 64, 67, 0.3), 0px 1px 3px 1px rgba(60, 64, 67, 0.15);\n",
              "        fill: #174EA6;\n",
              "      }\n",
              "\n",
              "      [theme=dark] .colab-df-generate {\n",
              "        background-color: #3B4455;\n",
              "        fill: #D2E3FC;\n",
              "      }\n",
              "\n",
              "      [theme=dark] .colab-df-generate:hover {\n",
              "        background-color: #434B5C;\n",
              "        box-shadow: 0px 1px 3px 1px rgba(0, 0, 0, 0.15);\n",
              "        filter: drop-shadow(0px 1px 2px rgba(0, 0, 0, 0.3));\n",
              "        fill: #FFFFFF;\n",
              "      }\n",
              "    </style>\n",
              "    <button class=\"colab-df-generate\" onclick=\"generateWithVariable('df2')\"\n",
              "            title=\"Generate code using this dataframe.\"\n",
              "            style=\"display:none;\">\n",
              "\n",
              "  <svg xmlns=\"http://www.w3.org/2000/svg\" height=\"24px\"viewBox=\"0 0 24 24\"\n",
              "       width=\"24px\">\n",
              "    <path d=\"M7,19H8.4L18.45,9,17,7.55,7,17.6ZM5,21V16.75L18.45,3.32a2,2,0,0,1,2.83,0l1.4,1.43a1.91,1.91,0,0,1,.58,1.4,1.91,1.91,0,0,1-.58,1.4L9.25,21ZM18.45,9,17,7.55Zm-12,3A5.31,5.31,0,0,0,4.9,8.1,5.31,5.31,0,0,0,1,6.5,5.31,5.31,0,0,0,4.9,4.9,5.31,5.31,0,0,0,6.5,1,5.31,5.31,0,0,0,8.1,4.9,5.31,5.31,0,0,0,12,6.5,5.46,5.46,0,0,0,6.5,12Z\"/>\n",
              "  </svg>\n",
              "    </button>\n",
              "    <script>\n",
              "      (() => {\n",
              "      const buttonEl =\n",
              "        document.querySelector('#id_915b4d1a-044f-4ac4-afdc-3098ac6cb97d button.colab-df-generate');\n",
              "      buttonEl.style.display =\n",
              "        google.colab.kernel.accessAllowed ? 'block' : 'none';\n",
              "\n",
              "      buttonEl.onclick = () => {\n",
              "        google.colab.notebook.generateWithVariable('df2');\n",
              "      }\n",
              "      })();\n",
              "    </script>\n",
              "  </div>\n",
              "\n",
              "    </div>\n",
              "  </div>\n"
            ],
            "application/vnd.google.colaboratory.intrinsic+json": {
              "type": "dataframe",
              "variable_name": "df2",
              "summary": "{\n  \"name\": \"df2\",\n  \"rows\": 10,\n  \"fields\": [\n    {\n      \"column\": \"col2\",\n      \"properties\": {\n        \"dtype\": \"number\",\n        \"std\": 0.8396097616505414,\n        \"min\": -1.108534806417308,\n        \"max\": 1.406611712454772,\n        \"num_unique_values\": 10,\n        \"samples\": [\n          1.406611712454772,\n          0.1980827205216088,\n          -1.108534806417308\n        ],\n        \"semantic_type\": \"\",\n        \"description\": \"\"\n      }\n    },\n    {\n      \"column\": \"col3\",\n      \"properties\": {\n        \"dtype\": \"number\",\n        \"std\": 1.370124481605365,\n        \"min\": -3.26968936797835,\n        \"max\": 1.8136153315535923,\n        \"num_unique_values\": 10,\n        \"samples\": [\n          -1.048258584876321,\n          -3.26968936797835,\n          -0.902531699243548\n        ],\n        \"semantic_type\": \"\",\n        \"description\": \"\"\n      }\n    }\n  ]\n}"
            }
          },
          "metadata": {},
          "execution_count": 5
        }
      ]
    },
    {
      "cell_type": "code",
      "metadata": {
        "colab": {
          "base_uri": "https://localhost:8080/",
          "height": 393
        },
        "id": "fww-spJnsAmy",
        "outputId": "113c465e-1f9a-47c0-d86b-a407ecc48453"
      },
      "source": [
        "# Access a column\n",
        "df3 = df1['col1']\n",
        "df3"
      ],
      "execution_count": 6,
      "outputs": [
        {
          "output_type": "execute_result",
          "data": {
            "text/plain": [
              "0    0.061532\n",
              "1    0.859750\n",
              "2    1.444490\n",
              "3   -0.228246\n",
              "4   -0.085324\n",
              "5   -0.150827\n",
              "6    0.500837\n",
              "7   -0.059894\n",
              "8    1.754047\n",
              "9    1.780580\n",
              "Name: col1, dtype: float64"
            ],
            "text/html": [
              "<div>\n",
              "<style scoped>\n",
              "    .dataframe tbody tr th:only-of-type {\n",
              "        vertical-align: middle;\n",
              "    }\n",
              "\n",
              "    .dataframe tbody tr th {\n",
              "        vertical-align: top;\n",
              "    }\n",
              "\n",
              "    .dataframe thead th {\n",
              "        text-align: right;\n",
              "    }\n",
              "</style>\n",
              "<table border=\"1\" class=\"dataframe\">\n",
              "  <thead>\n",
              "    <tr style=\"text-align: right;\">\n",
              "      <th></th>\n",
              "      <th>col1</th>\n",
              "    </tr>\n",
              "  </thead>\n",
              "  <tbody>\n",
              "    <tr>\n",
              "      <th>0</th>\n",
              "      <td>0.061532</td>\n",
              "    </tr>\n",
              "    <tr>\n",
              "      <th>1</th>\n",
              "      <td>0.859750</td>\n",
              "    </tr>\n",
              "    <tr>\n",
              "      <th>2</th>\n",
              "      <td>1.444490</td>\n",
              "    </tr>\n",
              "    <tr>\n",
              "      <th>3</th>\n",
              "      <td>-0.228246</td>\n",
              "    </tr>\n",
              "    <tr>\n",
              "      <th>4</th>\n",
              "      <td>-0.085324</td>\n",
              "    </tr>\n",
              "    <tr>\n",
              "      <th>5</th>\n",
              "      <td>-0.150827</td>\n",
              "    </tr>\n",
              "    <tr>\n",
              "      <th>6</th>\n",
              "      <td>0.500837</td>\n",
              "    </tr>\n",
              "    <tr>\n",
              "      <th>7</th>\n",
              "      <td>-0.059894</td>\n",
              "    </tr>\n",
              "    <tr>\n",
              "      <th>8</th>\n",
              "      <td>1.754047</td>\n",
              "    </tr>\n",
              "    <tr>\n",
              "      <th>9</th>\n",
              "      <td>1.780580</td>\n",
              "    </tr>\n",
              "  </tbody>\n",
              "</table>\n",
              "</div><br><label><b>dtype:</b> float64</label>"
            ]
          },
          "metadata": {},
          "execution_count": 6
        }
      ]
    },
    {
      "cell_type": "markdown",
      "metadata": {
        "id": "k4LtqBaLsNad"
      },
      "source": [
        "For more useful functions and tricks please refer to (https://www.tutorialspoint.com/python_pandas/index.htm)"
      ]
    },
    {
      "cell_type": "markdown",
      "metadata": {
        "id": "DEG66nqyzjos"
      },
      "source": [
        "### Splitting the datasets into training set and test set\n",
        "It is crucial to have a test dataset to evaluate the model we have learned. And scikit-learn provides a simple way of doing this via the `train_test_split` function."
      ]
    },
    {
      "cell_type": "code",
      "metadata": {
        "colab": {
          "base_uri": "https://localhost:8080/"
        },
        "id": "FUM3MT8F0dHw",
        "outputId": "f6fb9c4f-b70f-4e03-f4b8-b1d3eaac2c1e"
      },
      "source": [
        "import numpy as np\n",
        "from sklearn.model_selection import train_test_split\n",
        "\n",
        "X, y = np.arange(100).reshape((-1, 2)), np.array([f'category_{i}' for i in np.random.randint(3, size=50)])\n",
        "print(f'Original data shape X:{X.shape}, y:{y.shape}')\n",
        "\n",
        "X_train, X_test, y_train, y_test = train_test_split(X,y,test_size=0.2)\n",
        "print(f'Training data shape X:{X_train.shape}, y:{y_train.shape}')\n",
        "print(f'Test data shape X:{X_test.shape}, y:{y_test.shape}')"
      ],
      "execution_count": 7,
      "outputs": [
        {
          "output_type": "stream",
          "name": "stdout",
          "text": [
            "Original data shape X:(50, 2), y:(50,)\n",
            "Training data shape X:(40, 2), y:(40,)\n",
            "Test data shape X:(10, 2), y:(10,)\n"
          ]
        }
      ]
    },
    {
      "cell_type": "markdown",
      "metadata": {
        "id": "cvc3e959wWfS"
      },
      "source": [
        "### Data preprocessing\n",
        "Usually any data we have is raw and cannot just be plugged into the algorithm directly. Therefore, we need to preprocess the data so that can turn the raw data into the data that we can actually work on. And this step is called data preprocessing. There are different strategies for different types of data.  \n"
      ]
    },
    {
      "cell_type": "markdown",
      "metadata": {
        "id": "j5fLFUAst8Ic"
      },
      "source": [
        "For numerical data, a common preprocessing step is to make the features have zero-mean and unit-variance. Here is an easy way of doing this using `StandardScaler` from scikit-learn."
      ]
    },
    {
      "cell_type": "code",
      "metadata": {
        "colab": {
          "base_uri": "https://localhost:8080/"
        },
        "id": "JjE2c2kAuzSv",
        "outputId": "f978e1c9-10a2-42db-f236-aaafdab8157b"
      },
      "source": [
        "import numpy as np\n",
        "from sklearn.preprocessing import StandardScaler\n",
        "\n",
        "# create data\n",
        "data = np.array([[20, 0.002],\n",
        "\t\t\t\t[100, 0.05],\n",
        "\t\t\t\t[75, 0.027],\n",
        "\t\t\t\t[82, 0.07],\n",
        "\t\t\t\t[17, 0.03]])\n",
        "print(f'Before scaled:\\n {data}')\n",
        "\n",
        "# define standard scaler\n",
        "scaler = StandardScaler()\n",
        "# fit (i.e., find mean and standard deviation)\n",
        "#  and transform (i.e., subtract mean and divide by standard deviation)\n",
        "#  in one step call\n",
        "scaled_data = scaler.fit_transform(data)\n",
        "print(f'After scaled:\\n {scaled_data}')"
      ],
      "execution_count": 8,
      "outputs": [
        {
          "output_type": "stream",
          "name": "stdout",
          "text": [
            "Before scaled:\n",
            " [[2.0e+01 2.0e-03]\n",
            " [1.0e+02 5.0e-02]\n",
            " [7.5e+01 2.7e-02]\n",
            " [8.2e+01 7.0e-02]\n",
            " [1.7e+01 3.0e-02]]\n",
            "After scaled:\n",
            " [[-1.14407    -1.47520914]\n",
            " [ 1.21483721  0.61976242]\n",
            " [ 0.47767871 -0.38407812]\n",
            " [ 0.68408309  1.49266723]\n",
            " [-1.23252902 -0.2531424 ]]\n"
          ]
        }
      ]
    },
    {
      "cell_type": "markdown",
      "metadata": {
        "id": "aS0MU7xsvmZp"
      },
      "source": [
        "For non-numerical data, we somehow need to tranform the data into numbers. This is common for classification tasks since each class is usually labelled with names, i.e., a string. Turning this kind of feature into number representation is called **encoding categorical features**. There are many ways to do this, the simplest way is through **label encoding** via `LabelEncoder` or `OneHotEncoder`."
      ]
    },
    {
      "cell_type": "code",
      "metadata": {
        "colab": {
          "base_uri": "https://localhost:8080/"
        },
        "id": "HrhLpzVXvcrf",
        "outputId": "041fd3b0-93b3-4f3a-bb87-2b234b741643"
      },
      "source": [
        "from sklearn.preprocessing import LabelEncoder, OneHotEncoder\n",
        "data = [\"paris\", \"paris\", \"tokyo\", \"amsterdam\", \"lafayette\", \"amsterdam\"]\n",
        "\n",
        "print(f'Original data:\\n {data}')\n",
        "\n",
        "label_encode = LabelEncoder()\n",
        "# transform data\n",
        "label_data = label_encode.fit_transform(data)\n",
        "print(f'label_data:\\n {label_data}')\n"
      ],
      "execution_count": 9,
      "outputs": [
        {
          "output_type": "stream",
          "name": "stdout",
          "text": [
            "Original data:\n",
            " ['paris', 'paris', 'tokyo', 'amsterdam', 'lafayette', 'amsterdam']\n",
            "label_data:\n",
            " [2 2 3 0 1 0]\n"
          ]
        }
      ]
    },
    {
      "cell_type": "markdown",
      "metadata": {
        "id": "chrVW290n-RD"
      },
      "source": [
        "### Important: Split the data into train and test BEFORE fitting/learning any preprocessing functions\n",
        "The test data cannot be used for learning any functions--even preprocessing functions.\n",
        "Thus, you should learn the preprocessing functions only on the training data via `fit` or `fit_transform` and then apply to the test data via `transform`.  (Or you can make a pipeline that includes the preprocessing in the pipeline as shown later.)\n",
        "\n",
        "(If you use the test data for learning the preprocessing function, you are \"cheating\" and your method evaluation is invalid.)"
      ]
    },
    {
      "cell_type": "code",
      "metadata": {
        "id": "fGz90Dyan-RE",
        "outputId": "0f5c484e-d4e5-4561-8eac-93009c111025",
        "colab": {
          "base_uri": "https://localhost:8080/"
        }
      },
      "source": [
        "X_train, X_test, y_train, y_test = train_test_split(X, y, test_size=0.2, random_state=0)\n",
        "\n",
        "# Learn preprocessing transform ONLY on training data\n",
        "#  (this learns the mean and variance of the training data)\n",
        "scalar = StandardScaler()\n",
        "labeler = LabelEncoder()\n",
        "scalar.fit(X_train)\n",
        "labeler.fit(y_train)\n",
        "\n",
        "# Apply the learned preprocessing transformations on both train and test\n",
        "#  (Note we are not fitting or learning based on X_test, merely transforming the test data)\n",
        "X_train = scalar.transform(X_train)\n",
        "X_test = scalar.transform(X_test)\n",
        "y_train = labeler.transform(y_train)\n",
        "y_test = labeler.transform(y_test)\n",
        "print(f'Mean orig X={np.mean(X, axis=0)}')\n",
        "# Exactly zero since we used training data to scale\n",
        "print(f'Mean of scaled train={np.mean(X_train, axis=0)}')\n",
        "# Not exactly zero because the test set used the mean and variance learned from the training data\n",
        "print(f'mean of scaled test={np.mean(X_test, axis=0)}')"
      ],
      "execution_count": 10,
      "outputs": [
        {
          "output_type": "stream",
          "name": "stdout",
          "text": [
            "Mean orig X=[49. 50.]\n",
            "Mean of scaled train=[1.05471187e-16 1.05471187e-16]\n",
            "mean of scaled test=[-0.2650758 -0.2650758]\n"
          ]
        }
      ]
    },
    {
      "cell_type": "markdown",
      "metadata": {
        "id": "yFQt7DvDzSjW"
      },
      "source": [
        "## Train and evaluate the model"
      ]
    },
    {
      "cell_type": "markdown",
      "metadata": {
        "id": "8cvYuDKsABuG"
      },
      "source": [
        "### K Nearest Neighbor classification\n",
        "Scikit also provides a simple KNN implemenetation. It works as follows:"
      ]
    },
    {
      "cell_type": "markdown",
      "metadata": {
        "id": "AZb8CGFYoYfi"
      },
      "source": [
        "# New Section"
      ]
    },
    {
      "cell_type": "code",
      "metadata": {
        "colab": {
          "base_uri": "https://localhost:8080/"
        },
        "id": "UvQ9qbocyadg",
        "outputId": "86ddf98b-5b19-4a54-9af2-3eb67b47b453"
      },
      "source": [
        "import matplotlib.pyplot as plt\n",
        "from sklearn.neighbors import KNeighborsClassifier\n",
        "\n",
        "# Create datasets\n",
        "num_samples_per_class = 1000\n",
        "mean1, cov1 = [-2,2], [[2,0],[0,2]]\n",
        "mean2, cov2 = [2,-2], [[2,0],[0,2]]\n",
        "X1 = np.random.multivariate_normal(mean1, cov1, num_samples_per_class)\n",
        "X2 = np.random.multivariate_normal(mean2, cov2, num_samples_per_class)\n",
        "\n",
        "X = np.concatenate((X1,X2))\n",
        "y = np.concatenate((np.zeros(num_samples_per_class),np.ones(num_samples_per_class)))\n",
        "\n",
        "X_train, X_test, y_train, y_test = train_test_split(X,y,test_size=0.5)\n",
        "print(f'Training data shape X:{X_train.shape}, y:{y_train.shape}')\n",
        "print(f'Test data shape X:{X_test.shape}, y:{y_test.shape}')\n",
        "\n",
        "# Create the KNN classifier\n",
        "neigh = KNeighborsClassifier()\n",
        "# Fit the data into the classifier\n",
        "neigh.fit(X_train, y_train)\n",
        "# Evaluate our model\n",
        "train_score = neigh.score(X_train, y_train)\n",
        "test_score = neigh.score(X_test, y_test)\n",
        "print(f'Training score is {train_score}, Test score is {test_score}')\n"
      ],
      "execution_count": 11,
      "outputs": [
        {
          "output_type": "stream",
          "name": "stdout",
          "text": [
            "Training data shape X:(1000, 2), y:(1000,)\n",
            "Test data shape X:(1000, 2), y:(1000,)\n",
            "Training score is 0.978, Test score is 0.977\n"
          ]
        }
      ]
    },
    {
      "cell_type": "markdown",
      "metadata": {
        "id": "m1gK57jB85ts"
      },
      "source": [
        "**Find the best hyperparamters for KNN classifier?**\n",
        "This can be done via cross validation using the `GridSearchCV` estimator in scikit-learn. The gridsearch estimator simply does an exhaustive search over all possible combinations of paramter choices. For example, if I want to find the best `n_neighbors` parameter among **[1,3,5,7,9,11]** for KNN as well as the best distance `metric` among **['euclidean', 'manhattan', 'chebyshev']**, `GridSearchCV` could be built as below.  Note that this will actually fit `6*3*cv` models since there are 6 `n_neighbors` parameters and 3 `metric` parameters and there are `cv` number of cross validation folds."
      ]
    },
    {
      "cell_type": "code",
      "metadata": {
        "colab": {
          "base_uri": "https://localhost:8080/"
        },
        "id": "bZhkexe46OkA",
        "outputId": "d1c7c2b6-a540-450a-8164-caf6a82c7c10"
      },
      "source": [
        "from sklearn.model_selection import GridSearchCV\n",
        "\n",
        "grid_params = {\n",
        "    'n_neighbors': [1,3,5,7,9,11],\n",
        "    'metric': ['euclidean', 'manhattan', 'chebyshev'],\n",
        "}\n",
        "\n",
        "KNN_GV = GridSearchCV(KNeighborsClassifier(),\n",
        "                      grid_params,\n",
        "                      cv = 5 # Specifies the number of fractions for cross validation\n",
        "                     )\n",
        "\n",
        "result = KNN_GV.fit(X_train, y_train)\n",
        "print(f'The best parameters are {result.best_params_}')\n",
        "train_score = KNN_GV.score(X_train, y_train)\n",
        "test_score = KNN_GV.score(X_test, y_test)\n",
        "print(f'Training score is {train_score}, Test score is {test_score}')"
      ],
      "execution_count": 12,
      "outputs": [
        {
          "output_type": "stream",
          "name": "stdout",
          "text": [
            "The best parameters are {'metric': 'manhattan', 'n_neighbors': 5}\n",
            "Training score is 0.979, Test score is 0.979\n"
          ]
        },
        {
          "output_type": "stream",
          "name": "stderr",
          "text": [
            "/usr/local/lib/python3.10/dist-packages/numpy/ma/core.py:2820: RuntimeWarning: invalid value encountered in cast\n",
            "  _data = np.array(data, dtype=dtype, copy=copy,\n"
          ]
        }
      ]
    },
    {
      "cell_type": "markdown",
      "metadata": {
        "id": "_LbRqTfv_PZi"
      },
      "source": [
        "Here, the grid search do a total number of 18 parameter setttings of KNN with each iteration a different combination of parameters. And among the 18 combinations, the best training score is 0.977 withe a corresponding test score of 0.971."
      ]
    },
    {
      "cell_type": "markdown",
      "metadata": {
        "id": "rjpHusdRAFyC"
      },
      "source": [
        "### Simple linear regression\n",
        "Scikit-learn also provides a simple implemention of linear regression, here is how it works.\n",
        "We first generate data from a noisy sin function as follows $y=\\sin(x) + \\epsilon$, where $\\epsilon \\sim \\text{NormalDistribution}(\\mu,\\sigma)$ where $\\mu=0$ and $\\sigma=0.1$.\n",
        "\n",
        "(Samples from a standard normal distribution are generated via `randn`, and these can be shifted and scaled to form samples from any normal distribution as follows $\\epsilon = \\sigma z + \\mu$, where $z$ is a standard normal sample.)"
      ]
    },
    {
      "cell_type": "code",
      "metadata": {
        "colab": {
          "base_uri": "https://localhost:8080/",
          "height": 430
        },
        "id": "wH9EL0SrA_tO",
        "outputId": "4edfffe7-39bd-49bf-c500-e85c1a6c9dd5"
      },
      "source": [
        "# We first create something we need to fit\n",
        "num_samples = 50\n",
        "X = np.linspace(0,2,num_samples)\n",
        "y = np.sin(X) + 0.1*np.random.randn(num_samples)\n",
        "plt.scatter(X, y)\n",
        "plt.show()"
      ],
      "execution_count": 13,
      "outputs": [
        {
          "output_type": "display_data",
          "data": {
            "text/plain": [
              "<Figure size 640x480 with 1 Axes>"
            ],
            "image/png": "[encoded data removed]"
          },
          "metadata": {}
        }
      ]
    },
    {
      "cell_type": "markdown",
      "metadata": {
        "id": "Hu-MmNo7h4YN"
      },
      "source": [
        "Here we show a simple 1D linear regresssion."
      ]
    },
    {
      "cell_type": "code",
      "metadata": {
        "id": "AoEQCbiUh4YN",
        "outputId": "fd09e74d-df8c-421c-9fd4-6e79b14954ed",
        "colab": {
          "base_uri": "https://localhost:8080/",
          "height": 430
        }
      },
      "source": [
        "from sklearn.linear_model import LinearRegression\n",
        "\n",
        "xfit = np.linspace(0, 2, 1000)\n",
        "\n",
        "lin_reg = LinearRegression()\n",
        "# The fit function always expects a 2D array for X (even if there is only one feature)\n",
        "#  so we go from an (n,) 1D array to a (n,1) 2D array via the np.newaxis\n",
        "#  (you could also use X.reshape(-1, 1) for this)\n",
        "lin_reg.fit(X[:, np.newaxis], y)\n",
        "yfit = lin_reg.predict(xfit[:, np.newaxis])\n",
        "plt.plot(xfit, yfit, 'r')\n",
        "plt.scatter(X, y)\n",
        "\n",
        "plt.show()"
      ],
      "execution_count": 14,
      "outputs": [
        {
          "output_type": "display_data",
          "data": {
            "text/plain": [
              "<Figure size 640x480 with 1 Axes>"
            ],
            "image/png": "[encoded data removed]"
          },
          "metadata": {}
        }
      ]
    },
    {
      "cell_type": "markdown",
      "metadata": {
        "id": "BsjDCTl0BIDA"
      },
      "source": [
        "### Linear regression with polynomial features = 1D polynomial regression!\n",
        "Now, lets extend linear regression with \"pseudo features\" by creating polynomial features from the original data, i.e., pseudo features for various powers of the original data:\n",
        "$z_1 = x$, $z_2 = x^2$, $z_3 = x^3$, $z_4 = x^4$, etc.  \n",
        "We can do this easily by first passing the data through a scikit-learn estimator that creates these polynomial features and then running a linear regression method so that our 1D model is a polynomial function:\n",
        "$$\\theta_1 z_1 + \\theta_2 z_2 + \\theta_3 z_3 \\cdots = \\theta_1 x + \\theta_2 x^2 + \\theta_3 x^3 \\cdots \\, .$$\n",
        "[See the python handbook for more details and an in-depth example of linear regression and polynomial regression.](https://jakevdp.github.io/PythonDataScienceHandbook/05.06-linear-regression.html) (There are lots of other options, for example, Gaussian feature is the most used feature and with Ridge/Lasso regularization.)\n",
        "\n",
        "These two steps (one preprocessing and the other classification) can be combined using scikit-learn's pipeline implementation as seen below.  In general, it is always better to put all preprocessing in a pipeline rather than doing them as separate steps.  This way the whole model is contained in one call and you can use `GridSearchCV` to optimize multiple hyperparameters in the pipeline.  Additionally, this can help avoid common bugs like using the test data for the preprocessing steps (which should not be given access to the test data) or forgetting to preprocess your data before passing to your classifier."
      ]
    },
    {
      "cell_type": "code",
      "metadata": {
        "colab": {
          "base_uri": "https://localhost:8080/",
          "height": 430
        },
        "id": "40ldYmxU_yeW",
        "outputId": "3e55a55b-762a-475a-da72-8bb27d529cae"
      },
      "source": [
        "from sklearn.pipeline import make_pipeline\n",
        "from sklearn.preprocessing import PolynomialFeatures\n",
        "\n",
        "xfit = np.linspace(0, 2, 1000)\n",
        "\n",
        "degree=2\n",
        "estimator = make_pipeline(PolynomialFeatures(degree), LinearRegression())\n",
        "estimator.fit(X[:, np.newaxis], y)\n",
        "yfit = estimator.predict(xfit[:, np.newaxis])\n",
        "plt.plot(xfit, yfit, 'r')\n",
        "plt.scatter(X, y)\n",
        "\n",
        "plt.show()"
      ],
      "execution_count": 15,
      "outputs": [
        {
          "output_type": "display_data",
          "data": {
            "text/plain": [
              "<Figure size 640x480 with 1 Axes>"
            ],
            "image/png": "[encoded data removed]"
          },
          "metadata": {}
        }
      ]
    }
  ]
}